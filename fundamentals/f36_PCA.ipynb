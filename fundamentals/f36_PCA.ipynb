{
 "cells": [
  {
   "cell_type": "markdown",
   "metadata": {},
   "source": [
    "# PCA는 내 친구"
   ]
  },
  {
   "cell_type": "markdown",
   "metadata": {},
   "source": [
    "## 고유값 분해\n",
    "---\n",
    "### 고유값(Eigenvalue)와 고유벡터(Eigenvector)"
   ]
  },
  {
   "cell_type": "markdown",
   "metadata": {
    "ExecuteTime": {
     "end_time": "2020-09-18T15:24:30.745365Z",
     "start_time": "2020-09-18T15:24:30.742723Z"
    }
   },
   "source": [
    "><math xmlns=\"http://www.w3.org/1998/Math/MathML\" display=\"block\">\n",
    "  <mrow>\n",
    "    <mi mathvariant=\"bold\">A</mi>\n",
    "    <mi mathvariant=\"bold\">x</mi>\n",
    "  </mrow>\n",
    "  <mo>=</mo>\n",
    "  <mi>&#x3BB;</mi>\n",
    "  <mi mathvariant=\"bold\">x</mi>\n",
    "</math>\n",
    "\n",
    "이 수식을 만족하는 <mi>&#x3BB;</mi> 를 **고유값**,<mi>x</mi>를 고유벡터라 함"
   ]
  },
  {
   "cell_type": "markdown",
   "metadata": {
    "ExecuteTime": {
     "end_time": "2020-09-18T15:32:15.335090Z",
     "start_time": "2020-09-18T15:32:15.331436Z"
    }
   },
   "source": [
    "$$A =\\begin{vmatrix}\n",
    "2 & 1 \\\\\n",
    "1 & 2\n",
    "\\end{vmatrix}$$ \n",
    "$$위\\, 행렬의\\, 고유값과\\, 고유벡터는?$$\n",
    "$$\\lambda_1= 1, {\\bf e}_1 =\\begin{bmatrix}1\\ -1 \\end{bmatrix} \\;AND\\; \\lambda_2= 3, {\\bf e}_2 =\\begin{bmatrix}1\\ 1 \\end{bmatrix}$$"
   ]
  },
  {
   "cell_type": "markdown",
   "metadata": {},
   "source": [
    "### 고유값 분해\n",
    "---\n",
    "보통 $\\bf A$행렬 는 여러 개의 고유값($\\lambda$)과 고유벡터($\\bf e$)를 가집니다. 그래서 각각을$\\lambda_1, \\lambda_2, … {\\bf e}_1, {\\bf e}_2, …$ 처럼 표현합니다. 만약 행렬 의 크기가 $\\bf n$X$\\bf m$이라면, 일반적으로 $\\bf n$개의 고유값과 고유벡터가 나오게 됩니다. 위에서 풀어본 퀴즈도 였기 때문에 두 개의 고유값과 두 개의 고유벡터를 가지고 있었죠.\n",
    "\n",
    "우리는 이렇게 여러개의 고유값과 고유벡터를 보다 간단하게 표현할 수 있는데, 그 방법이 **행렬**을 이용하는 것입니다. 이걸 matrix form으로 나타낸다고 해요. 그리고 matrix form으로 나타내는 것을 고유값 분해(Eigenvalue Decomposition, EVD)라고 합니다."
   ]
  },
  {
   "cell_type": "markdown",
   "metadata": {},
   "source": [
    "$${\\bf A}=\\begin{bmatrix}\n",
    "1 & 2\\\\\n",
    "2 & 1\n",
    "\\end{bmatrix}$$\n",
    "$$위\\, 행렬을\\, 고유값\\, 분해한\\, 값은?$$\n",
    "$$\\lambda_1= 3, {\\bf e}_1 =\\begin{bmatrix}1\\ 1 \\end{bmatrix}\\,and\\,\\lambda_2= -1, {\\bf e}_2 =\\begin{bmatrix}1\\ -1 \\end{bmatrix}$$\n",
    "고유벡터의 경우 꼭 (1,1) 또는 (1,-1) 일 필요는 없으며, 두 element의 크기만 같으면 됨. ex. (2,2), (3,-3)도 정답임. eigenvalue matrix ${\\bf E}$에 고유벡터가 순서대로 들어가면 됨.대신 고유값도 고유벡터 순서와 맞아야 함.\n",
    "$$Answer \\,is \\\\\n",
    "{\\bf A}={\\bf E \\Lambda E^{-1}}=\\begin{bmatrix}\n",
    "1 & 1\\\\\n",
    "1 & -1\n",
    "\\end{bmatrix}\\begin{bmatrix}\n",
    "3 & 0\\\\\n",
    "0 & -1\n",
    "\\end{bmatrix}\\begin{bmatrix}\n",
    "1 & 1\\\\\n",
    "1 & -1\n",
    "\\end{bmatrix}^{-1}$$"
   ]
  },
  {
   "cell_type": "markdown",
   "metadata": {},
   "source": [
    "## 주성분 분석(Principal Component Analysis)"
   ]
  },
  {
   "cell_type": "markdown",
   "metadata": {},
   "source": [
    "https://i.imgur.com/Uv2dlsH.mp4"
   ]
  },
  {
   "attachments": {},
   "cell_type": "markdown",
   "metadata": {},
   "source": [
    "PCA는 데이터의 분산을 최대한으로 보존하면서 서로 직교하는 새로운 기저(축)을 찾아 \n",
    "\n",
    "고차원 공간의 표본들을 선형 연관성이 없는 저차원 공간으로 변환하는 기법\n",
    "\n",
    "![image.png](pca.pnd)"
   ]
  },
  {
   "cell_type": "code",
   "execution_count": null,
   "metadata": {},
   "outputs": [],
   "source": []
  }
 ],
 "metadata": {
  "kernelspec": {
   "display_name": "aiffel",
   "language": "python",
   "name": "aiffel"
  },
  "language_info": {
   "codemirror_mode": {
    "name": "ipython",
    "version": 3
   },
   "file_extension": ".py",
   "mimetype": "text/x-python",
   "name": "python",
   "nbconvert_exporter": "python",
   "pygments_lexer": "ipython3",
   "version": "3.7.7"
  },
  "toc": {
   "base_numbering": 1,
   "nav_menu": {},
   "number_sections": true,
   "sideBar": true,
   "skip_h1_title": false,
   "title_cell": "Table of Contents",
   "title_sidebar": "Contents",
   "toc_cell": false,
   "toc_position": {},
   "toc_section_display": true,
   "toc_window_display": false
  },
  "varInspector": {
   "cols": {
    "lenName": 16,
    "lenType": 16,
    "lenVar": 40
   },
   "kernels_config": {
    "python": {
     "delete_cmd_postfix": "",
     "delete_cmd_prefix": "del ",
     "library": "var_list.py",
     "varRefreshCmd": "print(var_dic_list())"
    },
    "r": {
     "delete_cmd_postfix": ") ",
     "delete_cmd_prefix": "rm(",
     "library": "var_list.r",
     "varRefreshCmd": "cat(var_dic_list()) "
    }
   },
   "types_to_exclude": [
    "module",
    "function",
    "builtin_function_or_method",
    "instance",
    "_Feature"
   ],
   "window_display": false
  }
 },
 "nbformat": 4,
 "nbformat_minor": 4
}
