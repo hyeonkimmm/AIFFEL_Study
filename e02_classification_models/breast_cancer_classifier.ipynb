{
 "cells": [
  {
   "cell_type": "markdown",
   "metadata": {},
   "source": [
    "# Breast_cancer Classifer\n",
    "---\n",
    "#### 주요 모듈 import"
   ]
  },
  {
   "cell_type": "code",
   "execution_count": 1,
   "metadata": {},
   "outputs": [],
   "source": [
    "from sklearn.datasets import load_breast_cancer # load breast_cancer data\n",
    "from sklearn.model_selection import train_test_split\n",
    "from sklearn.metrics import classification_report\n",
    "from sklearn.metrics import confusion_matrix # Use confusion_matrix\n",
    "from sklearn.tree import DecisionTreeClassifier # Use DecisionTreeClassifier\n",
    "from sklearn.ensemble import RandomForestClassifier # Use RandomForestClassifier\n",
    "from sklearn import svm # Use Support Vector Machine(SVM)\n",
    "from sklearn.linear_model import SGDClassifier # Use Stochastic Gradient Descent Classifier (SGDClassifier)\n",
    "from sklearn.linear_model import LogisticRegression # Use LogisticRegression\n",
    "from sklearn.metrics import accuracy_score # 정확도 확인\n",
    "import pandas as pd"
   ]
  },
  {
   "cell_type": "markdown",
   "metadata": {},
   "source": [
    "## 데이터 이해하기\n",
    "---\n",
    "- Feature Data 지정하기\n",
    "- Label Data 지정하기\n",
    "- Target Names 출력해 보기\n",
    "- 데이터 Describe 해 보기"
   ]
  },
  {
   "cell_type": "code",
   "execution_count": 13,
   "metadata": {},
   "outputs": [
    {
     "name": "stdout",
     "output_type": "stream",
     "text": [
      "dict_keys(['data', 'target', 'frame', 'target_names', 'DESCR', 'feature_names', 'filename'])\n",
      "breast_cancer_data.shape: (569, 30)\n",
      "breast_cancer_label.shape: (569,)\n",
      "breast_cancer.target_names: ['malignant' 'benign']\n",
      "['mean radius' 'mean texture' 'mean perimeter' 'mean area'\n",
      " 'mean smoothness' 'mean compactness' 'mean concavity'\n",
      " 'mean concave points' 'mean symmetry' 'mean fractal dimension'\n",
      " 'radius error' 'texture error' 'perimeter error' 'area error'\n",
      " 'smoothness error' 'compactness error' 'concavity error'\n",
      " 'concave points error' 'symmetry error' 'fractal dimension error'\n",
      " 'worst radius' 'worst texture' 'worst perimeter' 'worst area'\n",
      " 'worst smoothness' 'worst compactness' 'worst concavity'\n",
      " 'worst concave points' 'worst symmetry' 'worst fractal dimension']\n",
      "     mean radius  mean texture  mean perimeter  mean area  mean smoothness  \\\n",
      "0          17.99         10.38          122.80     1001.0          0.11840   \n",
      "1          20.57         17.77          132.90     1326.0          0.08474   \n",
      "2          19.69         21.25          130.00     1203.0          0.10960   \n",
      "3          11.42         20.38           77.58      386.1          0.14250   \n",
      "4          20.29         14.34          135.10     1297.0          0.10030   \n",
      "..           ...           ...             ...        ...              ...   \n",
      "564        21.56         22.39          142.00     1479.0          0.11100   \n",
      "565        20.13         28.25          131.20     1261.0          0.09780   \n",
      "566        16.60         28.08          108.30      858.1          0.08455   \n",
      "567        20.60         29.33          140.10     1265.0          0.11780   \n",
      "568         7.76         24.54           47.92      181.0          0.05263   \n",
      "\n",
      "     mean compactness  mean concavity  mean concave points  mean symmetry  \\\n",
      "0             0.27760         0.30010              0.14710         0.2419   \n",
      "1             0.07864         0.08690              0.07017         0.1812   \n",
      "2             0.15990         0.19740              0.12790         0.2069   \n",
      "3             0.28390         0.24140              0.10520         0.2597   \n",
      "4             0.13280         0.19800              0.10430         0.1809   \n",
      "..                ...             ...                  ...            ...   \n",
      "564           0.11590         0.24390              0.13890         0.1726   \n",
      "565           0.10340         0.14400              0.09791         0.1752   \n",
      "566           0.10230         0.09251              0.05302         0.1590   \n",
      "567           0.27700         0.35140              0.15200         0.2397   \n",
      "568           0.04362         0.00000              0.00000         0.1587   \n",
      "\n",
      "     mean fractal dimension  ...  worst texture  worst perimeter  worst area  \\\n",
      "0                   0.07871  ...          17.33           184.60      2019.0   \n",
      "1                   0.05667  ...          23.41           158.80      1956.0   \n",
      "2                   0.05999  ...          25.53           152.50      1709.0   \n",
      "3                   0.09744  ...          26.50            98.87       567.7   \n",
      "4                   0.05883  ...          16.67           152.20      1575.0   \n",
      "..                      ...  ...            ...              ...         ...   \n",
      "564                 0.05623  ...          26.40           166.10      2027.0   \n",
      "565                 0.05533  ...          38.25           155.00      1731.0   \n",
      "566                 0.05648  ...          34.12           126.70      1124.0   \n",
      "567                 0.07016  ...          39.42           184.60      1821.0   \n",
      "568                 0.05884  ...          30.37            59.16       268.6   \n",
      "\n",
      "     worst smoothness  worst compactness  worst concavity  \\\n",
      "0             0.16220            0.66560           0.7119   \n",
      "1             0.12380            0.18660           0.2416   \n",
      "2             0.14440            0.42450           0.4504   \n",
      "3             0.20980            0.86630           0.6869   \n",
      "4             0.13740            0.20500           0.4000   \n",
      "..                ...                ...              ...   \n",
      "564           0.14100            0.21130           0.4107   \n",
      "565           0.11660            0.19220           0.3215   \n",
      "566           0.11390            0.30940           0.3403   \n",
      "567           0.16500            0.86810           0.9387   \n",
      "568           0.08996            0.06444           0.0000   \n",
      "\n",
      "     worst concave points  worst symmetry  worst fractal dimension  label  \n",
      "0                  0.2654          0.4601                  0.11890      0  \n",
      "1                  0.1860          0.2750                  0.08902      0  \n",
      "2                  0.2430          0.3613                  0.08758      0  \n",
      "3                  0.2575          0.6638                  0.17300      0  \n",
      "4                  0.1625          0.2364                  0.07678      0  \n",
      "..                    ...             ...                      ...    ...  \n",
      "564                0.2216          0.2060                  0.07115      0  \n",
      "565                0.1628          0.2572                  0.06637      0  \n",
      "566                0.1418          0.2218                  0.07820      0  \n",
      "567                0.2650          0.4087                  0.12400      0  \n",
      "568                0.0000          0.2871                  0.07039      1  \n",
      "\n",
      "[569 rows x 31 columns]\n"
     ]
    }
   ],
   "source": [
    "breast_cancer = load_breast_cancer() #Load Data\n",
    "print(breast_cancer.keys()) #breast_cancer Data\n",
    "breast_cancer_data = breast_cancer.data\n",
    "print(\"breast_cancer_data.shape: {}\".format(breast_cancer_data.shape)) \n",
    "breast_cancer_label = breast_cancer.target\n",
    "print(\"breast_cancer_label.shape: {}\".format(breast_cancer_label.shape))\n",
    "print(\"breast_cancer.target_names: {}\".format(breast_cancer.target_names)) \n",
    "# malignant 0일 때 악성종양 , benign 1일 때 양성 종양\n",
    "#print(breast_cancer.DESCR) #정보 출력 -> 30개의 속성\n",
    "print(breast_cancer.feature_names)\n",
    "breast_cancer_df = pd.DataFrame(data=breast_cancer_data, columns=breast_cancer.feature_names)\n",
    "breast_cancer_df[\"label\"] = breast_cancer_label\n",
    "print(breast_cancer_df)"
   ]
  },
  {
   "cell_type": "markdown",
   "metadata": {},
   "source": [
    "## train,test 데이터 분리\n",
    "---\n",
    "데이터 분리를 위해 sklearn.model_selection 사용, 추가로 shuffle 속성을 True로 함"
   ]
  },
  {
   "cell_type": "code",
   "execution_count": 9,
   "metadata": {},
   "outputs": [],
   "source": [
    "X_train, X_test, y_train, y_test = train_test_split(breast_cancer_data, \n",
    "                                                    breast_cancer_label, \n",
    "                                                    test_size=0.2,\n",
    "                                                    random_state=5,\n",
    "                                                    shuffle=True)"
   ]
  },
  {
   "cell_type": "markdown",
   "metadata": {},
   "source": [
    "## 다양한 모델로 학습시켜보기\n",
    "---\n",
    "- Decision Tree 사용해 보기\n",
    "- Random Forest 사용해 보기\n",
    "- SVM 사용해 보기\n",
    "- SGD Classifier 사용해 보기\n",
    "- Logistic Regression 사용해 보기"
   ]
  },
  {
   "cell_type": "code",
   "execution_count": 10,
   "metadata": {},
   "outputs": [
    {
     "name": "stdout",
     "output_type": "stream",
     "text": [
      "DecisionTree accuarcy: 0.9385964912280702\n",
      "RandomForestClassifier accuarcy: 0.9736842105263158\n",
      "Support Vector Machine accuarcy: 0.9385964912280702\n",
      "SGDClassifier accuarcy: 0.8947368421052632\n",
      "LogisticRegression accuarcy: 0.9649122807017544\n"
     ]
    }
   ],
   "source": [
    "# Use DecisionTreeClassifier\n",
    "decision_tree = DecisionTreeClassifier(random_state=32)\n",
    "decision_tree.fit(X_train, y_train)\n",
    "y_pred_DC = decision_tree.predict(X_test)\n",
    "DC_accuary = accuracy_score(y_test,y_pred_DC)\n",
    "print(\"DecisionTree accuarcy: {}\".format(DC_accuary))\n",
    "\n",
    "# Use RandomForestClassifier\n",
    "random_forest = RandomForestClassifier(random_state=32)\n",
    "random_forest.fit(X_train, y_train)\n",
    "y_pred_RF = random_forest.predict(X_test)\n",
    "RF_accuary = accuracy_score(y_test,y_pred_RF)\n",
    "print(\"RandomForestClassifier accuarcy: {}\".format(RF_accuary))\n",
    "\n",
    "# Use Support Vector Machine(SVM)\n",
    "clf = svm.SVC(random_state=32)\n",
    "clf.fit(X_train, y_train)\n",
    "y_pred_SVM = clf.predict(X_test)\n",
    "SVM_accuary = accuracy_score(y_test,y_pred_SVM)\n",
    "print(\"Support Vector Machine accuarcy: {}\".format(SVM_accuary))\n",
    "\n",
    "# Use Stochastic Gradient Descent Classifier (SGDClassifier)\n",
    "clf = SGDClassifier(loss=\"perceptron\").fit(X_train, y_train)\n",
    "y_pred_SGDC = clf.predict(X_test)\n",
    "SGDC_accuary = accuracy_score(y_test,y_pred_SGDC)\n",
    "print(\"SGDClassifier accuarcy: {}\".format(SGDC_accuary))\n",
    "\n",
    "# Use LogisticRegression\n",
    "logistic_model = LogisticRegression(max_iter=3000)\n",
    "clf = logistic_model.fit(X_train, y_train)\n",
    "y_pred_LOGR = clf.predict(X_test)\n",
    "LOGR_accuary = accuracy_score(y_test,y_pred_LOGR)\n",
    "print(\"LogisticRegression accuarcy: {}\".format(LOGR_accuary))"
   ]
  },
  {
   "cell_type": "markdown",
   "metadata": {},
   "source": [
    "## Using confusion_matrix "
   ]
  },
  {
   "cell_type": "code",
   "execution_count": 14,
   "metadata": {},
   "outputs": [
    {
     "name": "stdout",
     "output_type": "stream",
     "text": [
      "Use DecisionTreeClassifier\n",
      "              precision    recall  f1-score   support\n",
      "\n",
      "           0       0.94      0.92      0.93        48\n",
      "           1       0.94      0.95      0.95        66\n",
      "\n",
      "    accuracy                           0.94       114\n",
      "   macro avg       0.94      0.94      0.94       114\n",
      "weighted avg       0.94      0.94      0.94       114\n",
      "\n",
      "Use RandomForestClassifier\n",
      "              precision    recall  f1-score   support\n",
      "\n",
      "           0       1.00      0.94      0.97        48\n",
      "           1       0.96      1.00      0.98        66\n",
      "\n",
      "    accuracy                           0.97       114\n",
      "   macro avg       0.98      0.97      0.97       114\n",
      "weighted avg       0.97      0.97      0.97       114\n",
      "\n",
      "Use Support Vector Machine(SVM)\n",
      "              precision    recall  f1-score   support\n",
      "\n",
      "           0       1.00      0.85      0.92        48\n",
      "           1       0.90      1.00      0.95        66\n",
      "\n",
      "    accuracy                           0.94       114\n",
      "   macro avg       0.95      0.93      0.94       114\n",
      "weighted avg       0.94      0.94      0.94       114\n",
      "\n",
      "Use Stochastic Gradient Descent Classifier (SGDClassifier)\n",
      "              precision    recall  f1-score   support\n",
      "\n",
      "           0       0.82      0.96      0.88        48\n",
      "           1       0.97      0.85      0.90        66\n",
      "\n",
      "    accuracy                           0.89       114\n",
      "   macro avg       0.89      0.90      0.89       114\n",
      "weighted avg       0.90      0.89      0.90       114\n",
      "\n",
      "Use LogisticRegression\n",
      "              precision    recall  f1-score   support\n",
      "\n",
      "           0       0.98      0.94      0.96        48\n",
      "           1       0.96      0.98      0.97        66\n",
      "\n",
      "    accuracy                           0.96       114\n",
      "   macro avg       0.97      0.96      0.96       114\n",
      "weighted avg       0.97      0.96      0.96       114\n",
      "\n"
     ]
    }
   ],
   "source": [
    "print(\"Use DecisionTreeClassifier\")\n",
    "print(classification_report(y_test, y_pred_DC))\n",
    "print(\"Use RandomForestClassifier\")\n",
    "print(classification_report(y_test, y_pred_RF))\n",
    "print(\"Use Support Vector Machine(SVM)\")\n",
    "print(classification_report(y_test, y_pred_SVM))\n",
    "print(\"Use Stochastic Gradient Descent Classifier (SGDClassifier)\")\n",
    "print(classification_report(y_test, y_pred_SGDC))\n",
    "print(\"Use LogisticRegression\")\n",
    "print(classification_report(y_test, y_pred_LOGR))"
   ]
  },
  {
   "cell_type": "markdown",
   "metadata": {},
   "source": [
    "# Model evaluation\n",
    "---\n",
    "Breast_cancer Classifer 경우에서는 Precision과 Recall을 잘 판단해서 모델을 결정해야합니다.\n",
    "\n",
    "암을 진단하는 경우 실제 malignant를 놓치지 않아야 하므로 Recall값이 높은 것이 매우 중요하다고 판단할 수 있습니다\n",
    "\n",
    "    label 값이 0일 경우 -> malignant(암환자) 일 때는 recall 값을 중점적으로 분석해야 하고, label 값이 1일 경우 -> benign(정상) 일 때는 반대로 precision 값을 중점적으로 분석해야 합니다.\n",
    "  \n",
    "  |  | 암환자 | 정상 |\n",
    "| :---: | :---: | :---: |\n",
    "| Recall | 중요 | X |\n",
    "| Precision | X | 중요 |\n",
    "  \n",
    "0 일때 recall과 1일때 precision이 가장 높은 SDG 모델이 실제 정확도는 0.89지만 암환자를 확진하는데에는 의외로 좋을 수도 있다고 생각합니다. \n",
    "\n",
    "SDG와 같이 특이한 값이 나옴을 제외하고는 RandomForestClassifier LogisticRegression 모델이 꾸준하게 준\n",
    "\n",
    "수한 성능을 보이고 있습니다.\n",
    "\n"
   ]
  }
 ],
 "metadata": {
  "kernelspec": {
   "display_name": "aiffel",
   "language": "python",
   "name": "aiffel"
  },
  "language_info": {
   "codemirror_mode": {
    "name": "ipython",
    "version": 3
   },
   "file_extension": ".py",
   "mimetype": "text/x-python",
   "name": "python",
   "nbconvert_exporter": "python",
   "pygments_lexer": "ipython3",
   "version": "3.7.6"
  }
 },
 "nbformat": 4,
 "nbformat_minor": 4
}
