{
  "nbformat": 4,
  "nbformat_minor": 0,
  "metadata": {
    "colab": {
      "name": "Seq2Seq_with_Attention",
      "provenance": [],
      "collapsed_sections": []
    },
    "kernelspec": {
      "name": "python3",
      "display_name": "Python 3"
    },
    "accelerator": "GPU"
  },
  "cells": [
    {
      "cell_type": "code",
      "metadata": {
        "id": "BFB1igjy8I7j"
      },
      "source": [
        "import tensorflow as tf\n",
        "from keras import layers\n",
        "import keras"
      ],
      "execution_count": 1,
      "outputs": []
    },
    {
      "cell_type": "code",
      "metadata": {
        "id": "Qp715oacNmer",
        "outputId": "f74b3c33-60b4-4ceb-d8a5-abf66eaab3f3",
        "colab": {
          "base_uri": "https://localhost:8080/"
        }
      },
      "source": [
        "import tensorflow as tf\n",
        "from tensorflow.keras import layers\n",
        "inputs = tf.random.uniform((1,10,), maxval=1000, dtype=tf.dtypes.int32)\n",
        "inputs\n",
        "embed = layers.Embedding(1000, 4)(inputs)\n",
        "embed\n",
        "rnn_out = layers.LSTM(8)(embed)\n",
        "rnn_out\n",
        "rnn_out = layers.LSTM(8, return_sequences=True, return_state=False)(embed)\n",
        "rnn_out\n",
        "rnn_out, state_h, state_c = layers.LSTM(8, return_sequences=True, return_state=True)(embed)\n",
        "\n",
        "# print(rnn_out)\n",
        "# print(state_h)\n",
        "# print(state_c)\n",
        "rnn_out = layers.GRU(8, return_sequences=True, return_state=True)(embed)\n",
        "# print(rnn_out)\n",
        "\n",
        "out = layers.Bidirectional(layers.GRU(8, return_sequences=True, return_state=True))(embed)\n",
        "out\n",
        "out = layers.Bidirectional(layers.GRU(8, return_sequences=True, return_state=True))(out)\n",
        "out"
      ],
      "execution_count": 82,
      "outputs": [
        {
          "output_type": "execute_result",
          "data": {
            "text/plain": [
              "[<tf.Tensor: shape=(1, 10, 16), dtype=float32, numpy=\n",
              " array([[[-7.3322174e-03, -1.0034279e-02, -2.8253892e-03, -8.7888649e-04,\n",
              "          -5.0847367e-03,  8.1342109e-04,  2.8604991e-03, -5.4657990e-03,\n",
              "          -1.0536960e-02, -1.7370414e-03, -5.3907605e-03, -2.0430377e-03,\n",
              "           7.6764044e-03, -5.6762912e-04,  6.5477211e-03,  4.0629935e-03],\n",
              "         [-9.6790539e-03, -1.1318546e-02, -1.4235536e-03,  5.8886496e-04,\n",
              "          -3.2291999e-03,  2.0670581e-03,  6.8934737e-03, -7.0039923e-03,\n",
              "          -6.5036281e-03, -9.4519980e-04,  1.6114360e-04, -1.0412757e-03,\n",
              "           1.0327345e-02, -5.3445058e-04,  1.6140345e-03,  8.4834313e-04],\n",
              "         [-5.4624081e-03, -4.6583535e-03,  6.5508875e-04, -2.3658287e-03,\n",
              "           4.3014940e-03,  1.2340078e-03,  4.5494474e-03, -1.0967149e-02,\n",
              "          -1.1436666e-02, -1.3763028e-03, -3.8594988e-03,  3.3573342e-05,\n",
              "           2.2041256e-02,  3.2485952e-03, -1.0667082e-02,  8.3156757e-04],\n",
              "         [-5.5646151e-03, -7.2069844e-04,  4.2092144e-03, -9.0293176e-03,\n",
              "           7.9524396e-03,  4.2600823e-03, -3.1722202e-03, -8.7946244e-03,\n",
              "          -1.4181459e-02, -2.1156569e-03, -1.7414117e-03, -1.2709046e-03,\n",
              "           1.9763544e-02,  7.1281805e-03, -1.0069639e-02,  3.8322324e-03],\n",
              "         [ 2.7607728e-03,  9.1282260e-03,  2.9449086e-03, -5.7527055e-03,\n",
              "           7.3128478e-03, -1.8069354e-03, -5.4238387e-03, -7.5808442e-03,\n",
              "          -2.1294153e-03,  2.1979040e-03,  7.2207339e-03,  1.0611231e-03,\n",
              "           4.2517595e-03,  1.9681519e-03, -5.4251989e-03,  2.7045801e-03],\n",
              "         [ 2.7532710e-04,  3.4168947e-03,  1.0816403e-03, -2.2466586e-03,\n",
              "           3.4257255e-03,  2.1383327e-03, -6.6498523e-03,  1.5355872e-03,\n",
              "          -5.4390826e-03,  1.8708415e-03,  2.9392424e-04, -4.3997908e-04,\n",
              "          -2.2762788e-03, -3.1424914e-03,  6.5021138e-03,  5.1779388e-03],\n",
              "         [ 5.6513608e-04,  2.0531807e-03,  3.1004196e-03,  1.7240145e-03,\n",
              "          -2.9338731e-03, -2.6044564e-03,  1.8386152e-03, -4.3812217e-03,\n",
              "          -5.1128515e-03,  7.1324711e-03, -5.3549994e-04,  1.3338760e-04,\n",
              "           1.8073245e-03, -7.1401014e-03,  8.0731278e-03,  4.8186504e-03],\n",
              "         [-4.0030456e-03, -2.7667368e-03,  6.6379076e-03, -8.5195940e-04,\n",
              "          -1.3915391e-03,  5.2039912e-03, -1.7084646e-03,  7.6333462e-04,\n",
              "          -1.3421002e-02,  5.7257822e-04, -7.6918658e-03, -2.4314134e-03,\n",
              "           7.5204107e-03, -1.2262395e-03,  5.9739216e-03,  1.0152620e-02],\n",
              "         [-8.0568325e-03, -6.1117634e-03,  6.5581878e-03,  1.1465572e-04,\n",
              "          -6.4184419e-03,  4.2047086e-03,  1.0840740e-03,  1.1223179e-03,\n",
              "          -7.0785698e-03,  4.1629900e-03, -1.0380916e-03, -2.1601461e-03,\n",
              "          -1.5535539e-03, -5.6376657e-03,  1.1910997e-02,  4.6800519e-03],\n",
              "         [-1.0212062e-02, -8.4550437e-03,  2.9651367e-03,  6.2416092e-04,\n",
              "          -4.6509621e-03,  4.7849920e-03,  1.6576815e-03,  2.4573640e-03,\n",
              "          -6.0085463e-03,  3.2721313e-03, -5.3583239e-03,  1.8636566e-03,\n",
              "          -4.5315414e-03, -8.8937627e-03,  8.5460646e-03, -1.9142217e-03]]],\n",
              "       dtype=float32)>, <tf.Tensor: shape=(1, 8), dtype=float32, numpy=\n",
              " array([[-0.01021206, -0.00845504,  0.00296514,  0.00062416, -0.00465096,\n",
              "          0.00478499,  0.00165768,  0.00245736]], dtype=float32)>, <tf.Tensor: shape=(1, 8), dtype=float32, numpy=\n",
              " array([[-0.01053696, -0.00173704, -0.00539076, -0.00204304,  0.0076764 ,\n",
              "         -0.00056763,  0.00654772,  0.00406299]], dtype=float32)>]"
            ]
          },
          "metadata": {
            "tags": []
          },
          "execution_count": 82
        }
      ]
    },
    {
      "cell_type": "code",
      "metadata": {
        "id": "vR1xgCRQ8OcB"
      },
      "source": [
        "inputs = layers.Input((10, ), batch_size=1)\n",
        "embed = layers.Embedding(1000, 100)(inputs)"
      ],
      "execution_count": 5,
      "outputs": []
    },
    {
      "cell_type": "code",
      "metadata": {
        "id": "_skhKryA8aFU"
      },
      "source": [
        "out = layers.GRU(512, return_sequences=True, return_state=True)(embed)"
      ],
      "execution_count": 6,
      "outputs": []
    },
    {
      "cell_type": "code",
      "metadata": {
        "id": "ssaqBaWG8lfj"
      },
      "source": [
        "bigru_out, forward_s, backward_s = layers.Bidirectional(layers.GRU(512, return_state=True))(embed)"
      ],
      "execution_count": 11,
      "outputs": []
    },
    {
      "cell_type": "code",
      "metadata": {
        "id": "WeUugdSY86Ns"
      },
      "source": [
        "encoder_state = layers.Concatenate([forward_s, backward_s])"
      ],
      "execution_count": 20,
      "outputs": []
    },
    {
      "cell_type": "code",
      "metadata": {
        "id": "HNQYuQvV9Gdq"
      },
      "source": [
        "dec_inputs = layers.Input((1, ), batch_size = 1)\n",
        "dec_embed = layers.Embedding(1000, 128)(dec_inputs)"
      ],
      "execution_count": 21,
      "outputs": []
    },
    {
      "cell_type": "code",
      "metadata": {
        "id": "_bUGsVL-AWuN"
      },
      "source": [
        ""
      ],
      "execution_count": null,
      "outputs": []
    },
    {
      "cell_type": "code",
      "metadata": {
        "id": "PWCZGA-WAmBu"
      },
      "source": [
        "from tensorflow.keras import Input\n",
        "\n",
        "inputs = Input((10,), batch_size=1)"
      ],
      "execution_count": 30,
      "outputs": []
    },
    {
      "cell_type": "code",
      "metadata": {
        "id": "Al_MeyvKAwSf",
        "outputId": "39601120-7a88-4d67-8ec8-12310cfc4b07",
        "colab": {
          "base_uri": "https://localhost:8080/"
        }
      },
      "source": [
        "embed = layers.Embedding(1000, 128)(inputs)\n",
        "embed"
      ],
      "execution_count": 31,
      "outputs": [
        {
          "output_type": "execute_result",
          "data": {
            "text/plain": [
              "<tf.Tensor 'embedding_10/embedding_lookup/Identity_1:0' shape=(1, 10, 128) dtype=float32>"
            ]
          },
          "metadata": {
            "tags": []
          },
          "execution_count": 31
        }
      ]
    },
    {
      "cell_type": "code",
      "metadata": {
        "id": "uKV_9RnbAzw-",
        "outputId": "51745b72-aacf-4d0a-bd06-c29763a4e622",
        "colab": {
          "base_uri": "https://localhost:8080/"
        }
      },
      "source": [
        "bigru_out, forward_s, backward_s = layers.Bidirectional(layers.GRU(512, \n",
        "                                            return_sequences=True, \n",
        "                                            return_state=True))(embed)\n",
        "bigru_out"
      ],
      "execution_count": 34,
      "outputs": [
        {
          "output_type": "execute_result",
          "data": {
            "text/plain": [
              "<tf.Tensor 'bidirectional_13/concat:0' shape=(1, 10, 1024) dtype=float32>"
            ]
          },
          "metadata": {
            "tags": []
          },
          "execution_count": 34
        }
      ]
    },
    {
      "cell_type": "code",
      "metadata": {
        "id": "sRz30Y9mBM87"
      },
      "source": [
        "encoder_state = layers.Concatenate()([forward_s, backward_s])\n",
        "encoder_state\n",
        "\n",
        "decoder_prev_state = encoder_state"
      ],
      "execution_count": 37,
      "outputs": []
    },
    {
      "cell_type": "code",
      "metadata": {
        "id": "XAv3OxoaCNSJ"
      },
      "source": [
        "# st-1 -> encoder_state\n",
        "# hj -> bigru_out"
      ],
      "execution_count": null,
      "outputs": []
    },
    {
      "cell_type": "code",
      "metadata": {
        "id": "ZRN5ZixDCY01"
      },
      "source": [
        "out1 = layers.Dense(256)(decoder_prev_state)\n",
        "out2 = layers.Dense(256)(bigru_out)"
      ],
      "execution_count": 38,
      "outputs": []
    },
    {
      "cell_type": "code",
      "metadata": {
        "id": "EhHy6wuoCYrS",
        "outputId": "c883129d-a7bf-418e-b0b3-9f780d2d0bb9",
        "colab": {
          "base_uri": "https://localhost:8080/"
        }
      },
      "source": [
        "bigru_out.shape"
      ],
      "execution_count": 40,
      "outputs": [
        {
          "output_type": "execute_result",
          "data": {
            "text/plain": [
              "TensorShape([1, 10, 1024])"
            ]
          },
          "metadata": {
            "tags": []
          },
          "execution_count": 40
        }
      ]
    },
    {
      "cell_type": "code",
      "metadata": {
        "id": "VFYfBoyGCNBU",
        "outputId": "8d70b699-c5ca-4dc7-9be7-a4e5a979f6bc",
        "colab": {
          "base_uri": "https://localhost:8080/"
        }
      },
      "source": [
        "embed.shape"
      ],
      "execution_count": 41,
      "outputs": [
        {
          "output_type": "execute_result",
          "data": {
            "text/plain": [
              "TensorShape([1, 10, 128])"
            ]
          },
          "metadata": {
            "tags": []
          },
          "execution_count": 41
        }
      ]
    },
    {
      "cell_type": "code",
      "metadata": {
        "id": "aR9gRQNGCM0Y",
        "outputId": "1452d809-a2b6-4208-a7e2-9d268278dcfa",
        "colab": {
          "base_uri": "https://localhost:8080/"
        }
      },
      "source": [
        "out1 = tf.expand_dims(out1, axis=1)\n",
        "out1"
      ],
      "execution_count": 42,
      "outputs": [
        {
          "output_type": "execute_result",
          "data": {
            "text/plain": [
              "<tf.Tensor 'ExpandDims:0' shape=(1, 1, 256) dtype=float32>"
            ]
          },
          "metadata": {
            "tags": []
          },
          "execution_count": 42
        }
      ]
    },
    {
      "cell_type": "code",
      "metadata": {
        "id": "P1bqX6LuCG9j",
        "outputId": "fcef3fd4-6076-45eb-fe6b-2eedcdc802c4",
        "colab": {
          "base_uri": "https://localhost:8080/"
        }
      },
      "source": [
        "out = out1 + out2\n",
        "out"
      ],
      "execution_count": 56,
      "outputs": [
        {
          "output_type": "execute_result",
          "data": {
            "text/plain": [
              "<tf.Tensor 'AddV2_2:0' shape=(1, 10, 256) dtype=float32>"
            ]
          },
          "metadata": {
            "tags": []
          },
          "execution_count": 56
        }
      ]
    },
    {
      "cell_type": "code",
      "metadata": {
        "id": "BmYKy6kZEevf"
      },
      "source": [
        "out = layers.Activation(\"tanh\")(out)"
      ],
      "execution_count": 57,
      "outputs": []
    },
    {
      "cell_type": "code",
      "metadata": {
        "id": "ZtpMuRECEuGT",
        "outputId": "6ae8b05c-3f17-4c3e-b16c-7f9c312bf147",
        "colab": {
          "base_uri": "https://localhost:8080/"
        }
      },
      "source": [
        "out = layers.Dense(1)(out)\n",
        "out #논문에서 alpha 부분"
      ],
      "execution_count": 58,
      "outputs": [
        {
          "output_type": "execute_result",
          "data": {
            "text/plain": [
              "<tf.Tensor 'dense_5/BiasAdd:0' shape=(1, 10, 1) dtype=float32>"
            ]
          },
          "metadata": {
            "tags": []
          },
          "execution_count": 58
        }
      ]
    },
    {
      "cell_type": "code",
      "metadata": {
        "id": "R5kOnTipFekn",
        "outputId": "30759f58-6247-4e75-d567-c77154543770",
        "colab": {
          "base_uri": "https://localhost:8080/"
        }
      },
      "source": [
        "alpha = tf.squeeze(out, axis=-1)\n",
        "alpha"
      ],
      "execution_count": 53,
      "outputs": [
        {
          "output_type": "execute_result",
          "data": {
            "text/plain": [
              "<tf.Tensor 'Squeeze_3:0' shape=(1, 10) dtype=float32>"
            ]
          },
          "metadata": {
            "tags": []
          },
          "execution_count": 53
        }
      ]
    },
    {
      "cell_type": "code",
      "metadata": {
        "id": "_4vbgWtQExHq",
        "outputId": "ca494e82-106a-47e7-c702-1066a0559778",
        "colab": {
          "base_uri": "https://localhost:8080/"
        }
      },
      "source": [
        "alpha = layers.Activation(\"softmax\")(out)\n",
        "alpha"
      ],
      "execution_count": 60,
      "outputs": [
        {
          "output_type": "execute_result",
          "data": {
            "text/plain": [
              "<tf.Tensor 'activation_5/truediv:0' shape=(1, 10, 1) dtype=float32>"
            ]
          },
          "metadata": {
            "tags": []
          },
          "execution_count": 60
        }
      ]
    },
    {
      "cell_type": "code",
      "metadata": {
        "id": "V0-iSY9-GAku",
        "outputId": "4bd87b66-3807-43b1-ac93-8163d0946744",
        "colab": {
          "base_uri": "https://localhost:8080/"
        }
      },
      "source": [
        "alpha.shape, bigru_out.shape"
      ],
      "execution_count": 55,
      "outputs": [
        {
          "output_type": "execute_result",
          "data": {
            "text/plain": [
              "(TensorShape([1, 10]), TensorShape([1, 10, 1024]))"
            ]
          },
          "metadata": {
            "tags": []
          },
          "execution_count": 55
        }
      ]
    },
    {
      "cell_type": "code",
      "metadata": {
        "id": "9jkTyY_jF0OU",
        "outputId": "39b75d84-823c-4391-c887-ee02c97da10b",
        "colab": {
          "base_uri": "https://localhost:8080/"
        }
      },
      "source": [
        "context = tf.reduce_sum(alpha*bigru_out, axis=1, keepdims=True)\n",
        "context"
      ],
      "execution_count": 71,
      "outputs": [
        {
          "output_type": "execute_result",
          "data": {
            "text/plain": [
              "<tf.Tensor 'Sum_3:0' shape=(1, 1, 1024) dtype=float32>"
            ]
          },
          "metadata": {
            "tags": []
          },
          "execution_count": 71
        }
      ]
    },
    {
      "cell_type": "code",
      "metadata": {
        "id": "4pjl4BEJHACV",
        "outputId": "61a6edad-b7de-48cb-c27a-ad2157d78875",
        "colab": {
          "base_uri": "https://localhost:8080/"
        }
      },
      "source": [
        "dec_embed."
      ],
      "execution_count": 69,
      "outputs": [
        {
          "output_type": "execute_result",
          "data": {
            "text/plain": [
              "TensorShape([1, 1, 128])"
            ]
          },
          "metadata": {
            "tags": []
          },
          "execution_count": 69
        }
      ]
    },
    {
      "cell_type": "code",
      "metadata": {
        "id": "NvzzZOfAGy74",
        "outputId": "bc6abd6e-b9d5-4eb6-e008-79c3414e2d6a",
        "colab": {
          "base_uri": "https://localhost:8080/"
        }
      },
      "source": [
        "dec_input = tf.concat([context, dec_embed], axis=-1)\n",
        "dec_input"
      ],
      "execution_count": 73,
      "outputs": [
        {
          "output_type": "execute_result",
          "data": {
            "text/plain": [
              "<tf.Tensor 'concat:0' shape=(1, 1, 1152) dtype=float32>"
            ]
          },
          "metadata": {
            "tags": []
          },
          "execution_count": 73
        }
      ]
    },
    {
      "cell_type": "code",
      "metadata": {
        "id": "1wP1fj_rGLDK",
        "outputId": "6538ca5e-d759-49dc-debc-e69854f4b448",
        "colab": {
          "base_uri": "https://localhost:8080/"
        }
      },
      "source": [
        "dec_out, dec_state = layers.GRU(512, return_sequences=True, return_state=True)(dec_input)\n",
        "dec_out"
      ],
      "execution_count": 79,
      "outputs": [
        {
          "output_type": "execute_result",
          "data": {
            "text/plain": [
              "<tf.Tensor 'gru_21/PartitionedCall:1' shape=(1, 1, 512) dtype=float32>"
            ]
          },
          "metadata": {
            "tags": []
          },
          "execution_count": 79
        }
      ]
    },
    {
      "cell_type": "code",
      "metadata": {
        "id": "HguOBtAYGO6k",
        "outputId": "c3ae6430-0aa9-4aea-c099-7db3c0610a1c",
        "colab": {
          "base_uri": "https://localhost:8080/"
        }
      },
      "source": [
        "prediction = layers.Dense(1000, activation='softmax')(dec_out)\n",
        "prediction"
      ],
      "execution_count": 80,
      "outputs": [
        {
          "output_type": "execute_result",
          "data": {
            "text/plain": [
              "<tf.Tensor 'dense_7/truediv:0' shape=(1, 1, 1000) dtype=float32>"
            ]
          },
          "metadata": {
            "tags": []
          },
          "execution_count": 80
        }
      ]
    },
    {
      "cell_type": "code",
      "metadata": {
        "id": "xnsrZRO6HnH1"
      },
      "source": [
        ""
      ],
      "execution_count": null,
      "outputs": []
    }
  ]
}