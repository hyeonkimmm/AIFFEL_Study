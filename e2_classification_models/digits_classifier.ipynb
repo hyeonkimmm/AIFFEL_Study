{
 "cells": [
  {
   "cell_type": "markdown",
   "metadata": {},
   "source": [
    "# Digits Classifer\n",
    "---\n",
    "#### 주요 모듈 import"
   ]
  },
  {
   "cell_type": "code",
   "execution_count": 78,
   "metadata": {},
   "outputs": [],
   "source": [
    "from sklearn.datasets import load_digits\n",
    "from sklearn.model_selection import train_test_split\n",
    "from sklearn.metrics import classification_report\n",
    "from sklearn.metrics import confusion_matrix # Use confusion_matrix\n",
    "from sklearn.tree import DecisionTreeClassifier # Use DecisionTreeClassifier\n",
    "from sklearn.ensemble import RandomForestClassifier # Use RandomForestClassifier\n",
    "from sklearn import svm # Use Support Vector Machine(SVM)\n",
    "from sklearn.linear_model import SGDClassifier # Use Stochastic Gradient Descent Classifier (SGDClassifier)\n",
    "from sklearn.linear_model import LogisticRegression # Use LogisticRegression\n",
    "from sklearn.metrics import accuracy_score # 정확도 확인\n",
    "import pandas as pd\n",
    "import matplotlib.pyplot as plt # 이미지로 보기위해\n",
    "%matplotlib inline"
   ]
  },
  {
   "cell_type": "markdown",
   "metadata": {},
   "source": [
    "## 데이터 이해하기\n",
    "---\n",
    "지피지기면 백전불태! 다루어야 할 데이터를 자세히 살펴봅시다.\n",
    "\n",
    "- Feature Data 지정하기\n",
    "\n",
    "- Label Data 지정하기\n",
    "\n",
    "- Target Names 출력해 보기\n",
    "\n",
    "- 데이터 Describe 해 보기"
   ]
  },
  {
   "cell_type": "code",
   "execution_count": 83,
   "metadata": {},
   "outputs": [
    {
     "name": "stdout",
     "output_type": "stream",
     "text": [
      "dict_keys(['data', 'target', 'frame', 'feature_names', 'target_names', 'images', 'DESCR'])\n",
      "digits_data.shape: (1797, 64)\n",
      "digits_data[0]: \n",
      "[ 0.  0.  5. 13.  9.  1.  0.  0.  0.  0. 13. 15. 10. 15.  5.  0.  0.  3.\n",
      " 15.  2.  0. 11.  8.  0.  0.  4. 12.  0.  0.  8.  8.  0.  0.  5.  8.  0.\n",
      "  0.  9.  8.  0.  0.  4. 11.  0.  1. 12.  7.  0.  0.  2. 14.  5. 10. 12.\n",
      "  0.  0.  0.  0.  6. 13. 10.  0.  0.  0.]\n"
     ]
    },
    {
     "data": {
      "image/png": "[encoded data removed]",
      "text/plain": [
       "<Figure size 432x288 with 20 Axes>"
      ]
     },
     "metadata": {
      "needs_background": "light"
     },
     "output_type": "display_data"
    },
    {
     "name": "stdout",
     "output_type": "stream",
     "text": [
      "digits_label.shape: (1797,)\n",
      "digits.target_names: [0 1 2 3 4 5 6 7 8 9]\n"
     ]
    }
   ],
   "source": [
    "digits = load_digits() #Load Data\n",
    "print(digits.keys()) #digits Data\n",
    "digits_data = digits.data\n",
    "print(\"digits_data.shape: {}\".format(digits_data.shape)) # (1797,64) 1797개의 8x8 이미지 픽셀 데이터\n",
    "print(\"digits_data[0]: \\n{}\".format(digits_data[0])) # 64개 연속됨\n",
    "\n",
    "for i in range(20):\n",
    "    plt.subplot(4, 5, i+1)\n",
    "    plt.imshow(digits.data[i].reshape(8, 8), cmap='gray')\n",
    "    plt.axis('off')\n",
    "plt.show()\n",
    "digits_label = digits.target\n",
    "print(\"digits_label.shape: {}\".format(digits_label.shape))\n",
    "print(\"digits.target_names: {}\".format(digits.target_names))\n",
    "#digits_df = pd.DataFrame(data=digits_data, columns=digits.feature_names)\n",
    "#digits_df[\"label\"] = digits.target"
   ]
  },
  {
   "cell_type": "markdown",
   "metadata": {},
   "source": [
    "## train,test 데이터 분리\n",
    "---\n",
    "데이터 분리를 위해 sklearn.model_selection 사용, 추가로 shuffle 속성을 True로 함"
   ]
  },
  {
   "cell_type": "code",
   "execution_count": 80,
   "metadata": {},
   "outputs": [],
   "source": [
    "X_train, X_test, y_train, y_test = train_test_split(digits_data, \n",
    "                                                    digits_label, \n",
    "                                                    test_size=0.2,\n",
    "                                                    random_state=5,\n",
    "                                                    shuffle=True)"
   ]
  },
  {
   "cell_type": "markdown",
   "metadata": {},
   "source": [
    "## 다양한 모델로 학습시켜보기\n",
    "---\n",
    "학습데이터 X_train, y_train 을 활용해 분류기 모델을 만들어 봅시다. 어떤 모델이 가장 좋은 성능을 보일까요?\n",
    "\n",
    "Decision Tree 사용해 보기\n",
    "\n",
    "Random Forest 사용해 보기\n",
    "\n",
    "SVM 사용해 보기\n",
    "\n",
    "SGD Classifier 사용해 보기\n",
    "\n",
    "Logistic Regression 사용해 보기"
   ]
  },
  {
   "cell_type": "code",
   "execution_count": 87,
   "metadata": {},
   "outputs": [
    {
     "name": "stdout",
     "output_type": "stream",
     "text": [
      "DecisionTree accuarcy: 0.8527777777777777\n",
      "RandomForestClassifier accuarcy: 0.9666666666666667\n",
      "Support Vector Machine accuarcy: 0.9777777777777777\n",
      "SGDClassifier accuarcy: 0.95\n",
      "LogisticRegression accuarcy: 0.9583333333333334\n"
     ]
    }
   ],
   "source": [
    "# Use DecisionTreeClassifier\n",
    "decision_tree = DecisionTreeClassifier(random_state=32)\n",
    "decision_tree.fit(X_train, y_train)\n",
    "y_pred_DC = decision_tree.predict(X_test)\n",
    "DC_accuary = accuracy_score(y_test,y_pred_DC)\n",
    "print(\"DecisionTree accuarcy: {}\".format(DC_accuary))\n",
    "\n",
    "# Use RandomForestClassifier\n",
    "random_forest = RandomForestClassifier(random_state=32)\n",
    "random_forest.fit(X_train, y_train)\n",
    "y_pred_RF = random_forest.predict(X_test)\n",
    "RF_accuary = accuracy_score(y_test,y_pred_RF)\n",
    "print(\"RandomForestClassifier accuarcy: {}\".format(RF_accuary))\n",
    "\n",
    "# Use Support Vector Machine(SVM)\n",
    "clf = svm.SVC(random_state=32)\n",
    "clf.fit(X_train, y_train)\n",
    "y_pred_SVM = clf.predict(X_test)\n",
    "SVM_accuary = accuracy_score(y_test,y_pred_SVM)\n",
    "print(\"Support Vector Machine accuarcy: {}\".format(SVM_accuary))\n",
    "\n",
    "# Use Stochastic Gradient Descent Classifier (SGDClassifier)\n",
    "clf = SGDClassifier(loss=\"perceptron\").fit(X_train, y_train)\n",
    "y_pred_SGDC = clf.predict(X_test)\n",
    "SGDC_accuary = accuracy_score(y_test,y_pred_SGDC)\n",
    "print(\"SGDClassifier accuarcy: {}\".format(SGDC_accuary))\n",
    "\n",
    "# Use LogisticRegression\n",
    "logistic_model = LogisticRegression(max_iter=3000)\n",
    "clf = logistic_model.fit(X_train, y_train)\n",
    "y_pred_LOGR = clf.predict(X_test)\n",
    "LOGR_accuary = accuracy_score(y_test,y_pred_LOGR)\n",
    "print(\"LogisticRegression accuarcy: {}\".format(LOGR_accuary))"
   ]
  },
  {
   "cell_type": "markdown",
   "metadata": {},
   "source": [
    "## Using confusion_matrix "
   ]
  },
  {
   "cell_type": "code",
   "execution_count": 88,
   "metadata": {},
   "outputs": [
    {
     "name": "stdout",
     "output_type": "stream",
     "text": [
      "Use DecisionTreeClassifier\n",
      "              precision    recall  f1-score   support\n",
      "\n",
      "           0       1.00      0.91      0.96        35\n",
      "           1       0.82      0.89      0.85        35\n",
      "           2       0.88      0.81      0.84        36\n",
      "           3       0.89      0.84      0.86        37\n",
      "           4       0.85      0.72      0.78        32\n",
      "           5       0.88      0.83      0.85        46\n",
      "           6       0.96      0.90      0.93        30\n",
      "           7       0.83      0.83      0.83        42\n",
      "           8       0.78      0.84      0.81        38\n",
      "           9       0.71      1.00      0.83        29\n",
      "\n",
      "    accuracy                           0.85       360\n",
      "   macro avg       0.86      0.86      0.85       360\n",
      "weighted avg       0.86      0.85      0.85       360\n",
      "\n",
      "Use RandomForestClassifier\n",
      "              precision    recall  f1-score   support\n",
      "\n",
      "           0       1.00      0.97      0.99        35\n",
      "           1       0.97      1.00      0.99        35\n",
      "           2       0.97      1.00      0.99        36\n",
      "           3       1.00      0.95      0.97        37\n",
      "           4       0.97      0.97      0.97        32\n",
      "           5       0.94      0.96      0.95        46\n",
      "           6       1.00      0.97      0.98        30\n",
      "           7       0.98      0.98      0.98        42\n",
      "           8       0.92      0.95      0.94        38\n",
      "           9       0.93      0.93      0.93        29\n",
      "\n",
      "    accuracy                           0.97       360\n",
      "   macro avg       0.97      0.97      0.97       360\n",
      "weighted avg       0.97      0.97      0.97       360\n",
      "\n",
      "Use Support Vector Machine(SVM)\n",
      "              precision    recall  f1-score   support\n",
      "\n",
      "           0       1.00      1.00      1.00        35\n",
      "           1       0.97      1.00      0.99        35\n",
      "           2       1.00      1.00      1.00        36\n",
      "           3       1.00      0.95      0.97        37\n",
      "           4       1.00      1.00      1.00        32\n",
      "           5       0.96      0.98      0.97        46\n",
      "           6       1.00      1.00      1.00        30\n",
      "           7       1.00      0.98      0.99        42\n",
      "           8       0.95      0.95      0.95        38\n",
      "           9       0.90      0.93      0.92        29\n",
      "\n",
      "    accuracy                           0.98       360\n",
      "   macro avg       0.98      0.98      0.98       360\n",
      "weighted avg       0.98      0.98      0.98       360\n",
      "\n",
      "Use Stochastic Gradient Descent Classifier (SGDClassifier)\n",
      "              precision    recall  f1-score   support\n",
      "\n",
      "           0       1.00      1.00      1.00        35\n",
      "           1       0.85      0.94      0.89        35\n",
      "           2       1.00      1.00      1.00        36\n",
      "           3       0.97      0.89      0.93        37\n",
      "           4       1.00      0.94      0.97        32\n",
      "           5       0.96      0.93      0.95        46\n",
      "           6       1.00      0.97      0.98        30\n",
      "           7       0.98      0.98      0.98        42\n",
      "           8       0.94      0.89      0.92        38\n",
      "           9       0.82      0.97      0.89        29\n",
      "\n",
      "    accuracy                           0.95       360\n",
      "   macro avg       0.95      0.95      0.95       360\n",
      "weighted avg       0.95      0.95      0.95       360\n",
      "\n",
      "Use LogisticRegression\n",
      "              precision    recall  f1-score   support\n",
      "\n",
      "           0       1.00      1.00      1.00        35\n",
      "           1       0.89      0.97      0.93        35\n",
      "           2       0.95      1.00      0.97        36\n",
      "           3       0.97      0.95      0.96        37\n",
      "           4       0.97      0.91      0.94        32\n",
      "           5       0.98      0.93      0.96        46\n",
      "           6       1.00      0.97      0.98        30\n",
      "           7       0.98      0.98      0.98        42\n",
      "           8       0.97      0.92      0.95        38\n",
      "           9       0.88      0.97      0.92        29\n",
      "\n",
      "    accuracy                           0.96       360\n",
      "   macro avg       0.96      0.96      0.96       360\n",
      "weighted avg       0.96      0.96      0.96       360\n",
      "\n"
     ]
    }
   ],
   "source": [
    "print(\"Use DecisionTreeClassifier\")\n",
    "print(classification_report(y_test, y_pred_DC))\n",
    "print(\"Use RandomForestClassifier\")\n",
    "print(classification_report(y_test, y_pred_RF))\n",
    "print(\"Use Support Vector Machine(SVM)\")\n",
    "print(classification_report(y_test, y_pred_SVM))\n",
    "print(\"Use Stochastic Gradient Descent Classifier (SGDClassifier)\")\n",
    "print(classification_report(y_test, y_pred_SGDC))\n",
    "print(\"Use LogisticRegression\")\n",
    "print(classification_report(y_test, y_pred_LOGR))"
   ]
  },
  {
   "cell_type": "markdown",
   "metadata": {},
   "source": [
    "# Model evaluation\n",
    "---\n",
    "digits 분류기의 경우 precsion , recall 의 중요성이 명확하게 드러나지 않는다고 생각합니다\n",
    "\n",
    "각 모델당 특이하게 Precision이나 Recall값이 현저히 떨어지는 모델은 없어 보입니다.\n",
    "\n",
    "따라서 Precsion과 Recall의 조화평균인 F1 score와 Accuaracy를 종합적으로 판단하는게 맞다고 생각합니다.\n",
    "\n",
    "Digits Classifier에서 SVM Model, RandomForest Model이 정확도도 높고 안정적인 Model 입니다.\n"
   ]
  }
 ],
 "metadata": {
  "kernelspec": {
   "display_name": "aiffel",
   "language": "python",
   "name": "aiffel"
  },
  "language_info": {
   "codemirror_mode": {
    "name": "ipython",
    "version": 3
   },
   "file_extension": ".py",
   "mimetype": "text/x-python",
   "name": "python",
   "nbconvert_exporter": "python",
   "pygments_lexer": "ipython3",
   "version": "3.7.6"
  }
 },
 "nbformat": 4,
 "nbformat_minor": 4
}
