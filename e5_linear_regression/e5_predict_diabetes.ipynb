{
 "cells": [
  {
   "cell_type": "markdown",
   "metadata": {},
   "source": [
    "# Predict diabetes"
   ]
  },
  {
   "cell_type": "code",
   "execution_count": 9,
   "metadata": {
    "ExecuteTime": {
     "end_time": "2020-08-11T09:04:30.207913Z",
     "start_time": "2020-08-11T09:04:30.191107Z"
    }
   },
   "outputs": [
    {
     "name": "stdout",
     "output_type": "stream",
     "text": [
      "[[ 0.03807591  0.05068012  0.06169621 ... -0.00259226  0.01990842\n",
      "  -0.01764613]\n",
      " [-0.00188202 -0.04464164 -0.05147406 ... -0.03949338 -0.06832974\n",
      "  -0.09220405]\n",
      " [ 0.08529891  0.05068012  0.04445121 ... -0.00259226  0.00286377\n",
      "  -0.02593034]\n",
      " ...\n",
      " [ 0.04170844  0.05068012 -0.01590626 ... -0.01107952 -0.04687948\n",
      "   0.01549073]\n",
      " [-0.04547248 -0.04464164  0.03906215 ...  0.02655962  0.04452837\n",
      "  -0.02593034]\n",
      " [-0.04547248 -0.04464164 -0.0730303  ... -0.03949338 -0.00421986\n",
      "   0.00306441]]\n",
      "[151.  75. 141. 206. 135.  97. 138.  63. 110. 310. 101.  69. 179. 185.\n",
      " 118. 171. 166. 144.  97. 168.  68.  49.  68. 245. 184. 202. 137.  85.\n",
      " 131. 283. 129.  59. 341.  87.  65. 102. 265. 276. 252.  90. 100.  55.\n",
      "  61.  92. 259.  53. 190. 142.  75. 142. 155. 225.  59. 104. 182. 128.\n",
      "  52.  37. 170. 170.  61. 144.  52. 128.  71. 163. 150.  97. 160. 178.\n",
      "  48. 270. 202. 111.  85.  42. 170. 200. 252. 113. 143.  51.  52. 210.\n",
      "  65. 141.  55. 134.  42. 111.  98. 164.  48.  96.  90. 162. 150. 279.\n",
      "  92.  83. 128. 102. 302. 198.  95.  53. 134. 144. 232.  81. 104.  59.\n",
      " 246. 297. 258. 229. 275. 281. 179. 200. 200. 173. 180.  84. 121. 161.\n",
      "  99. 109. 115. 268. 274. 158. 107.  83. 103. 272.  85. 280. 336. 281.\n",
      " 118. 317. 235.  60. 174. 259. 178. 128.  96. 126. 288.  88. 292.  71.\n",
      " 197. 186.  25.  84.  96. 195.  53. 217. 172. 131. 214.  59.  70. 220.\n",
      " 268. 152.  47.  74. 295. 101. 151. 127. 237. 225.  81. 151. 107.  64.\n",
      " 138. 185. 265. 101. 137. 143. 141.  79. 292. 178.  91. 116.  86. 122.\n",
      "  72. 129. 142.  90. 158.  39. 196. 222. 277.  99. 196. 202. 155.  77.\n",
      " 191.  70.  73.  49.  65. 263. 248. 296. 214. 185.  78.  93. 252. 150.\n",
      "  77. 208.  77. 108. 160.  53. 220. 154. 259.  90. 246. 124.  67.  72.\n",
      " 257. 262. 275. 177.  71.  47. 187. 125.  78.  51. 258. 215. 303. 243.\n",
      "  91. 150. 310. 153. 346.  63.  89.  50.  39. 103. 308. 116. 145.  74.\n",
      "  45. 115. 264.  87. 202. 127. 182. 241.  66.  94. 283.  64. 102. 200.\n",
      " 265.  94. 230. 181. 156. 233.  60. 219.  80.  68. 332. 248.  84. 200.\n",
      "  55.  85.  89.  31. 129.  83. 275.  65. 198. 236. 253. 124.  44. 172.\n",
      " 114. 142. 109. 180. 144. 163. 147.  97. 220. 190. 109. 191. 122. 230.\n",
      " 242. 248. 249. 192. 131. 237.  78. 135. 244. 199. 270. 164.  72.  96.\n",
      " 306.  91. 214.  95. 216. 263. 178. 113. 200. 139. 139.  88. 148.  88.\n",
      " 243.  71.  77. 109. 272.  60.  54. 221.  90. 311. 281. 182. 321.  58.\n",
      " 262. 206. 233. 242. 123. 167.  63. 197.  71. 168. 140. 217. 121. 235.\n",
      " 245.  40.  52. 104. 132.  88.  69. 219.  72. 201. 110.  51. 277.  63.\n",
      " 118.  69. 273. 258.  43. 198. 242. 232. 175.  93. 168. 275. 293. 281.\n",
      "  72. 140. 189. 181. 209. 136. 261. 113. 131. 174. 257.  55.  84.  42.\n",
      " 146. 212. 233.  91. 111. 152. 120.  67. 310.  94. 183.  66. 173.  72.\n",
      "  49.  64.  48. 178. 104. 132. 220.  57.]\n",
      "<class 'pandas.core.frame.DataFrame'> <class 'numpy.ndarray'> <class 'numpy.ndarray'>\n"
     ]
    }
   ],
   "source": [
    "from sklearn.datasets import load_diabetes\n",
    "import pandas as pd\n",
    "\n",
    "diabetes = load_diabetes()\n",
    "df = pd.DataFrame(diabetes.data, columns=diabetes.feature_names)\n",
    "df_X = diabetes.data\n",
    "df_y = diabetes.target\n",
    "print(df_X)\n",
    "print(df_y)\n",
    "print(type(df),type(df_X),type(df_y))"
   ]
  },
  {
   "cell_type": "markdown",
   "metadata": {},
   "source": [
    "## Split train,test"
   ]
  },
  {
   "cell_type": "code",
   "execution_count": 11,
   "metadata": {
    "ExecuteTime": {
     "end_time": "2020-08-11T09:07:27.909870Z",
     "start_time": "2020-08-11T09:07:27.904897Z"
    }
   },
   "outputs": [
    {
     "name": "stdout",
     "output_type": "stream",
     "text": [
      "(353, 10) (353,)\n",
      "(89, 10) (89,)\n"
     ]
    }
   ],
   "source": [
    "from sklearn.model_selection import train_test_split\n",
    "X_train, X_test, y_train, y_test = train_test_split(df_X, df_y, test_size=0.2, random_state=42)\n",
    "print(X_train.shape, y_train.shape)\n",
    "print(X_test.shape, y_test.shape)"
   ]
  },
  {
   "cell_type": "markdown",
   "metadata": {},
   "source": [
    "## Set W,b define model"
   ]
  },
  {
   "cell_type": "code",
   "execution_count": 12,
   "metadata": {
    "ExecuteTime": {
     "end_time": "2020-08-11T09:09:04.911697Z",
     "start_time": "2020-08-11T09:09:04.909074Z"
    }
   },
   "outputs": [],
   "source": [
    "W = np.random.rand(10)\n",
    "b = np.random.rand()\n",
    "\n",
    "def model(X, W, b):\n",
    "    predictions = 0\n",
    "    for i in range(10):\n",
    "        predictions += X[:, i] * W[i]\n",
    "    predictions += b\n",
    "    return predictions\n"
   ]
  },
  {
   "cell_type": "markdown",
   "metadata": {},
   "source": [
    "## Define MSE loss function"
   ]
  },
  {
   "cell_type": "code",
   "execution_count": 13,
   "metadata": {
    "ExecuteTime": {
     "end_time": "2020-08-11T09:10:00.020765Z",
     "start_time": "2020-08-11T09:10:00.017483Z"
    }
   },
   "outputs": [],
   "source": [
    "def MSE(a, b):\n",
    "    mse = ((a - b) ** 2).mean()  # 두 값의 차이의 제곱의 평균\n",
    "    return mse\n",
    "def loss(X, W, b, y):\n",
    "    predictions = model(X, W, b)\n",
    "    L = MSE(predictions, y)\n",
    "    return L"
   ]
  },
  {
   "cell_type": "markdown",
   "metadata": {},
   "source": [
    "## Gradient Function"
   ]
  },
  {
   "cell_type": "code",
   "execution_count": 16,
   "metadata": {
    "ExecuteTime": {
     "end_time": "2020-08-11T09:11:24.485404Z",
     "start_time": "2020-08-11T09:11:24.458944Z"
    }
   },
   "outputs": [
    {
     "name": "stdout",
     "output_type": "stream",
     "text": [
      "dW: [ -60.64317766  -13.77812575 -189.74556623 -142.76582528  -68.37043149\n",
      "  -56.09325801  127.77133033 -139.15211906 -183.03409119 -123.65474061]\n",
      "db: -302.8297387938435\n"
     ]
    }
   ],
   "source": [
    "def gradient(X, W, b, y):\n",
    "    # N은 가중치의 개수\n",
    "    N = len(W)\n",
    "    \n",
    "    # y_pred 준비\n",
    "    y_pred = model(X, W, b)\n",
    "    \n",
    "    # 공식에 맞게 gradient 계산\n",
    "    dW = 1/N * 2 * X.T.dot(y_pred - y)\n",
    "        \n",
    "    # b의 gradient 계산\n",
    "    db = 2 * (y_pred - y).mean()\n",
    "    return dW, db\n",
    "dW, db = gradient(df_X, W, b, df_y)\n",
    "print(\"dW:\", dW)\n",
    "print(\"db:\", db)"
   ]
  },
  {
   "cell_type": "markdown",
   "metadata": {},
   "source": [
    "## Training"
   ]
  },
  {
   "cell_type": "code",
   "execution_count": 21,
   "metadata": {
    "ExecuteTime": {
     "end_time": "2020-08-11T09:12:41.976016Z",
     "start_time": "2020-08-11T09:12:41.667582Z"
    }
   },
   "outputs": [
    {
     "name": "stdout",
     "output_type": "stream",
     "text": [
      "Iteration 10 : Loss 2899.6896\n",
      "Iteration 20 : Loss 2899.6408\n",
      "Iteration 30 : Loss 2899.5930\n",
      "Iteration 40 : Loss 2899.5460\n",
      "Iteration 50 : Loss 2899.4999\n",
      "Iteration 60 : Loss 2899.4547\n",
      "Iteration 70 : Loss 2899.4103\n",
      "Iteration 80 : Loss 2899.3667\n",
      "Iteration 90 : Loss 2899.3239\n",
      "Iteration 100 : Loss 2899.2819\n",
      "Iteration 110 : Loss 2899.2407\n",
      "Iteration 120 : Loss 2899.2001\n",
      "Iteration 130 : Loss 2899.1604\n",
      "Iteration 140 : Loss 2899.1213\n",
      "Iteration 150 : Loss 2899.0829\n",
      "Iteration 160 : Loss 2899.0451\n",
      "Iteration 170 : Loss 2899.0080\n",
      "Iteration 180 : Loss 2898.9716\n",
      "Iteration 190 : Loss 2898.9358\n",
      "Iteration 200 : Loss 2898.9005\n",
      "Iteration 210 : Loss 2898.8659\n",
      "Iteration 220 : Loss 2898.8319\n",
      "Iteration 230 : Loss 2898.7984\n",
      "Iteration 240 : Loss 2898.7654\n",
      "Iteration 250 : Loss 2898.7330\n",
      "Iteration 260 : Loss 2898.7012\n",
      "Iteration 270 : Loss 2898.6698\n",
      "Iteration 280 : Loss 2898.6390\n",
      "Iteration 290 : Loss 2898.6086\n",
      "Iteration 300 : Loss 2898.5787\n",
      "Iteration 310 : Loss 2898.5493\n",
      "Iteration 320 : Loss 2898.5203\n",
      "Iteration 330 : Loss 2898.4918\n",
      "Iteration 340 : Loss 2898.4637\n",
      "Iteration 350 : Loss 2898.4360\n",
      "Iteration 360 : Loss 2898.4087\n",
      "Iteration 370 : Loss 2898.3819\n",
      "Iteration 380 : Loss 2898.3554\n",
      "Iteration 390 : Loss 2898.3294\n",
      "Iteration 400 : Loss 2898.3037\n",
      "Iteration 410 : Loss 2898.2784\n",
      "Iteration 420 : Loss 2898.2534\n",
      "Iteration 430 : Loss 2898.2288\n",
      "Iteration 440 : Loss 2898.2045\n",
      "Iteration 450 : Loss 2898.1806\n",
      "Iteration 460 : Loss 2898.1570\n",
      "Iteration 470 : Loss 2898.1337\n",
      "Iteration 480 : Loss 2898.1108\n",
      "Iteration 490 : Loss 2898.0881\n",
      "Iteration 500 : Loss 2898.0657\n",
      "Iteration 510 : Loss 2898.0437\n",
      "Iteration 520 : Loss 2898.0219\n",
      "Iteration 530 : Loss 2898.0004\n",
      "Iteration 540 : Loss 2897.9792\n",
      "Iteration 550 : Loss 2897.9582\n",
      "Iteration 560 : Loss 2897.9375\n",
      "Iteration 570 : Loss 2897.9171\n",
      "Iteration 580 : Loss 2897.8969\n",
      "Iteration 590 : Loss 2897.8770\n",
      "Iteration 600 : Loss 2897.8573\n",
      "Iteration 610 : Loss 2897.8378\n",
      "Iteration 620 : Loss 2897.8185\n",
      "Iteration 630 : Loss 2897.7995\n",
      "Iteration 640 : Loss 2897.7807\n",
      "Iteration 650 : Loss 2897.7622\n",
      "Iteration 660 : Loss 2897.7438\n",
      "Iteration 670 : Loss 2897.7256\n",
      "Iteration 680 : Loss 2897.7077\n",
      "Iteration 690 : Loss 2897.6899\n",
      "Iteration 700 : Loss 2897.6723\n",
      "Iteration 710 : Loss 2897.6549\n",
      "Iteration 720 : Loss 2897.6377\n",
      "Iteration 730 : Loss 2897.6207\n",
      "Iteration 740 : Loss 2897.6039\n",
      "Iteration 750 : Loss 2897.5872\n",
      "Iteration 760 : Loss 2897.5707\n",
      "Iteration 770 : Loss 2897.5543\n",
      "Iteration 780 : Loss 2897.5382\n",
      "Iteration 790 : Loss 2897.5221\n",
      "Iteration 800 : Loss 2897.5063\n",
      "Iteration 810 : Loss 2897.4906\n",
      "Iteration 820 : Loss 2897.4750\n",
      "Iteration 830 : Loss 2897.4596\n",
      "Iteration 840 : Loss 2897.4443\n",
      "Iteration 850 : Loss 2897.4292\n",
      "Iteration 860 : Loss 2897.4142\n",
      "Iteration 870 : Loss 2897.3993\n",
      "Iteration 880 : Loss 2897.3846\n",
      "Iteration 890 : Loss 2897.3699\n",
      "Iteration 900 : Loss 2897.3555\n",
      "Iteration 910 : Loss 2897.3411\n",
      "Iteration 920 : Loss 2897.3269\n",
      "Iteration 930 : Loss 2897.3127\n",
      "Iteration 940 : Loss 2897.2987\n",
      "Iteration 950 : Loss 2897.2848\n",
      "Iteration 960 : Loss 2897.2711\n",
      "Iteration 970 : Loss 2897.2574\n",
      "Iteration 980 : Loss 2897.2438\n",
      "Iteration 990 : Loss 2897.2304\n",
      "Iteration 1000 : Loss 2897.2170\n",
      "Iteration 1010 : Loss 2897.2037\n",
      "Iteration 1020 : Loss 2897.1906\n",
      "Iteration 1030 : Loss 2897.1775\n",
      "Iteration 1040 : Loss 2897.1645\n",
      "Iteration 1050 : Loss 2897.1516\n",
      "Iteration 1060 : Loss 2897.1388\n",
      "Iteration 1070 : Loss 2897.1261\n",
      "Iteration 1080 : Loss 2897.1135\n",
      "Iteration 1090 : Loss 2897.1010\n",
      "Iteration 1100 : Loss 2897.0885\n",
      "Iteration 1110 : Loss 2897.0762\n",
      "Iteration 1120 : Loss 2897.0639\n",
      "Iteration 1130 : Loss 2897.0517\n",
      "Iteration 1140 : Loss 2897.0395\n",
      "Iteration 1150 : Loss 2897.0275\n",
      "Iteration 1160 : Loss 2897.0155\n",
      "Iteration 1170 : Loss 2897.0036\n",
      "Iteration 1180 : Loss 2896.9918\n",
      "Iteration 1190 : Loss 2896.9800\n",
      "Iteration 1200 : Loss 2896.9683\n",
      "Iteration 1210 : Loss 2896.9566\n",
      "Iteration 1220 : Loss 2896.9451\n",
      "Iteration 1230 : Loss 2896.9336\n",
      "Iteration 1240 : Loss 2896.9221\n",
      "Iteration 1250 : Loss 2896.9107\n",
      "Iteration 1260 : Loss 2896.8994\n",
      "Iteration 1270 : Loss 2896.8882\n",
      "Iteration 1280 : Loss 2896.8770\n",
      "Iteration 1290 : Loss 2896.8658\n",
      "Iteration 1300 : Loss 2896.8547\n",
      "Iteration 1310 : Loss 2896.8437\n",
      "Iteration 1320 : Loss 2896.8327\n",
      "Iteration 1330 : Loss 2896.8218\n",
      "Iteration 1340 : Loss 2896.8109\n",
      "Iteration 1350 : Loss 2896.8001\n",
      "Iteration 1360 : Loss 2896.7893\n",
      "Iteration 1370 : Loss 2896.7786\n",
      "Iteration 1380 : Loss 2896.7679\n",
      "Iteration 1390 : Loss 2896.7573\n",
      "Iteration 1400 : Loss 2896.7467\n",
      "Iteration 1410 : Loss 2896.7362\n",
      "Iteration 1420 : Loss 2896.7257\n",
      "Iteration 1430 : Loss 2896.7152\n",
      "Iteration 1440 : Loss 2896.7048\n",
      "Iteration 1450 : Loss 2896.6944\n",
      "Iteration 1460 : Loss 2896.6841\n",
      "Iteration 1470 : Loss 2896.6738\n",
      "Iteration 1480 : Loss 2896.6636\n",
      "Iteration 1490 : Loss 2896.6534\n",
      "Iteration 1500 : Loss 2896.6432\n",
      "Iteration 1510 : Loss 2896.6331\n",
      "Iteration 1520 : Loss 2896.6230\n",
      "Iteration 1530 : Loss 2896.6129\n",
      "Iteration 1540 : Loss 2896.6029\n",
      "Iteration 1550 : Loss 2896.5929\n",
      "Iteration 1560 : Loss 2896.5830\n",
      "Iteration 1570 : Loss 2896.5731\n",
      "Iteration 1580 : Loss 2896.5632\n",
      "Iteration 1590 : Loss 2896.5533\n",
      "Iteration 1600 : Loss 2896.5435\n",
      "Iteration 1610 : Loss 2896.5337\n",
      "Iteration 1620 : Loss 2896.5240\n",
      "Iteration 1630 : Loss 2896.5142\n",
      "Iteration 1640 : Loss 2896.5045\n",
      "Iteration 1650 : Loss 2896.4949\n",
      "Iteration 1660 : Loss 2896.4852\n",
      "Iteration 1670 : Loss 2896.4756\n",
      "Iteration 1680 : Loss 2896.4660\n",
      "Iteration 1690 : Loss 2896.4565\n",
      "Iteration 1700 : Loss 2896.4469\n",
      "Iteration 1710 : Loss 2896.4374\n",
      "Iteration 1720 : Loss 2896.4280\n",
      "Iteration 1730 : Loss 2896.4185\n",
      "Iteration 1740 : Loss 2896.4091\n",
      "Iteration 1750 : Loss 2896.3997\n",
      "Iteration 1760 : Loss 2896.3903\n",
      "Iteration 1770 : Loss 2896.3809\n",
      "Iteration 1780 : Loss 2896.3716\n",
      "Iteration 1790 : Loss 2896.3623\n",
      "Iteration 1800 : Loss 2896.3530\n",
      "Iteration 1810 : Loss 2896.3437\n",
      "Iteration 1820 : Loss 2896.3345\n",
      "Iteration 1830 : Loss 2896.3253\n",
      "Iteration 1840 : Loss 2896.3161\n",
      "Iteration 1850 : Loss 2896.3069\n",
      "Iteration 1860 : Loss 2896.2977\n",
      "Iteration 1870 : Loss 2896.2886\n",
      "Iteration 1880 : Loss 2896.2795\n",
      "Iteration 1890 : Loss 2896.2704\n",
      "Iteration 1900 : Loss 2896.2613\n",
      "Iteration 1910 : Loss 2896.2522\n",
      "Iteration 1920 : Loss 2896.2432\n",
      "Iteration 1930 : Loss 2896.2341\n",
      "Iteration 1940 : Loss 2896.2251\n",
      "Iteration 1950 : Loss 2896.2161\n",
      "Iteration 1960 : Loss 2896.2072\n",
      "Iteration 1970 : Loss 2896.1982\n",
      "Iteration 1980 : Loss 2896.1893\n",
      "Iteration 1990 : Loss 2896.1803\n",
      "Iteration 2000 : Loss 2896.1714\n"
     ]
    },
    {
     "data": {
      "image/png": "[encoded data removed]",
      "text/plain": [
       "<Figure size 432x288 with 1 Axes>"
      ]
     },
     "metadata": {
      "image/png": {
       "height": 248,
       "width": 391
      },
      "needs_background": "light"
     },
     "output_type": "display_data"
    }
   ],
   "source": [
    "import matplotlib.pyplot as plt\n",
    "%matplotlib inline\n",
    "%config InlineBackend.figure_format = 'retina'\n",
    "LEARNING_RATE = 0.01\n",
    "losses = []\n",
    "\n",
    "for i in range(1, 2001):\n",
    "    dW, db = gradient(X_train, W, b, y_train)\n",
    "    W -= LEARNING_RATE * dW\n",
    "    b -= LEARNING_RATE * db\n",
    "    L = loss(X_train, W, b, y_train)\n",
    "    losses.append(L)\n",
    "    if i % 10 == 0:\n",
    "        print('Iteration %d : Loss %0.4f' % (i, L))\n",
    "plt.plot(losses)\n",
    "plt.show()"
   ]
  },
  {
   "cell_type": "code",
   "execution_count": 22,
   "metadata": {
    "ExecuteTime": {
     "end_time": "2020-08-11T09:13:13.761563Z",
     "start_time": "2020-08-11T09:13:13.757109Z"
    }
   },
   "outputs": [
    {
     "data": {
      "text/plain": [
       "2884.10972819444"
      ]
     },
     "execution_count": 22,
     "metadata": {},
     "output_type": "execute_result"
    }
   ],
   "source": [
    "prediction = model(X_test, W, b)\n",
    "mse = loss(X_test, W, b, y_test)\n",
    "mse"
   ]
  },
  {
   "cell_type": "code",
   "execution_count": 23,
   "metadata": {
    "ExecuteTime": {
     "end_time": "2020-08-11T09:13:31.423301Z",
     "start_time": "2020-08-11T09:13:31.323125Z"
    }
   },
   "outputs": [
    {
     "data": {
      "image/png": "[encoded data removed]",
      "text/plain": [
       "<Figure size 432x288 with 1 Axes>"
      ]
     },
     "metadata": {
      "image/png": {
       "height": 248,
       "width": 375
      },
      "needs_background": "light"
     },
     "output_type": "display_data"
    }
   ],
   "source": [
    "plt.scatter(X_test[:, 0], y_test)\n",
    "plt.scatter(X_test[:, 0], prediction)\n",
    "plt.show()"
   ]
  },
  {
   "cell_type": "markdown",
   "metadata": {},
   "source": [
    "## 마치며\n",
    "뭔가 쉽지 않았다 데이터 분포가 여기저기 떨어져 있어서 loss값이 쉽게 안떨어 졌던 것 같다 다른 모델로 하면 괜찮을지\n",
    "\n",
    "궁금하다\n"
   ]
  }
 ],
 "metadata": {
  "kernelspec": {
   "display_name": "aiffel",
   "language": "python",
   "name": "aiffel"
  },
  "language_info": {
   "codemirror_mode": {
    "name": "ipython",
    "version": 3
   },
   "file_extension": ".py",
   "mimetype": "text/x-python",
   "name": "python",
   "nbconvert_exporter": "python",
   "pygments_lexer": "ipython3",
   "version": "3.7.7"
  },
  "toc": {
   "base_numbering": 1,
   "nav_menu": {},
   "number_sections": true,
   "sideBar": true,
   "skip_h1_title": false,
   "title_cell": "Table of Contents",
   "title_sidebar": "Contents",
   "toc_cell": false,
   "toc_position": {},
   "toc_section_display": true,
   "toc_window_display": false
  },
  "varInspector": {
   "cols": {
    "lenName": 16,
    "lenType": 16,
    "lenVar": 40
   },
   "kernels_config": {
    "python": {
     "delete_cmd_postfix": "",
     "delete_cmd_prefix": "del ",
     "library": "var_list.py",
     "varRefreshCmd": "print(var_dic_list())"
    },
    "r": {
     "delete_cmd_postfix": ") ",
     "delete_cmd_prefix": "rm(",
     "library": "var_list.r",
     "varRefreshCmd": "cat(var_dic_list()) "
    }
   },
   "types_to_exclude": [
    "module",
    "function",
    "builtin_function_or_method",
    "instance",
    "_Feature"
   ],
   "window_display": false
  }
 },
 "nbformat": 4,
 "nbformat_minor": 4
}
