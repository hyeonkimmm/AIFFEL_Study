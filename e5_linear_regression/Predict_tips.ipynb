{
 "cells": [
  {
   "cell_type": "markdown",
   "metadata": {},
   "source": [
    "# Predict the tips you will receive by gender, number of guests, total amount eaten, etc."
   ]
  },
  {
   "cell_type": "code",
   "execution_count": 1,
   "metadata": {
    "ExecuteTime": {
     "end_time": "2020-08-11T08:43:34.519966Z",
     "start_time": "2020-08-11T08:43:33.465450Z"
    }
   },
   "outputs": [
    {
     "name": "stderr",
     "output_type": "stream",
     "text": [
      "/home/aiffel0042/anaconda3/envs/aiffel/lib/python3.7/site-packages/bs4/__init__.py:181: UserWarning: No parser was explicitly specified, so I'm using the best available HTML parser for this system (\"lxml\"). This usually isn't a problem, but if you run this code on another system, or in a different virtual environment, it may use a different parser and behave differently.\n",
      "\n",
      "The code that caused this warning is on line 193 of the file /home/aiffel0042/anaconda3/envs/aiffel/lib/python3.7/runpy.py. To get rid of this warning, change code that looks like this:\n",
      "\n",
      " BeautifulSoup(YOUR_MARKUP})\n",
      "\n",
      "to this:\n",
      "\n",
      " BeautifulSoup(YOUR_MARKUP, \"lxml\")\n",
      "\n",
      "  markup_type=markup_type))\n"
     ]
    },
    {
     "data": {
      "text/plain": [
       "['anscombe',\n",
       " 'attention',\n",
       " 'brain_networks',\n",
       " 'car_crashes',\n",
       " 'diamonds',\n",
       " 'dots',\n",
       " 'exercise',\n",
       " 'flights',\n",
       " 'fmri',\n",
       " 'gammas',\n",
       " 'geyser',\n",
       " 'iris',\n",
       " 'mpg',\n",
       " 'penguins',\n",
       " 'planets',\n",
       " 'tips',\n",
       " 'titanic']"
      ]
     },
     "execution_count": 1,
     "metadata": {},
     "output_type": "execute_result"
    }
   ],
   "source": [
    "import seaborn as sns\n",
    "#- ! bs4 모듈이 설치되어 있어야 합니다. -#\n",
    "\n",
    "sns.get_dataset_names()"
   ]
  },
  {
   "cell_type": "code",
   "execution_count": 2,
   "metadata": {
    "ExecuteTime": {
     "end_time": "2020-08-11T08:44:07.395986Z",
     "start_time": "2020-08-11T08:44:07.379589Z"
    }
   },
   "outputs": [
    {
     "name": "stdout",
     "output_type": "stream",
     "text": [
      "(244, 7)\n"
     ]
    },
    {
     "data": {
      "text/html": [
       "<div>\n",
       "<style scoped>\n",
       "    .dataframe tbody tr th:only-of-type {\n",
       "        vertical-align: middle;\n",
       "    }\n",
       "\n",
       "    .dataframe tbody tr th {\n",
       "        vertical-align: top;\n",
       "    }\n",
       "\n",
       "    .dataframe thead th {\n",
       "        text-align: right;\n",
       "    }\n",
       "</style>\n",
       "<table border=\"1\" class=\"dataframe\">\n",
       "  <thead>\n",
       "    <tr style=\"text-align: right;\">\n",
       "      <th></th>\n",
       "      <th>total_bill</th>\n",
       "      <th>tip</th>\n",
       "      <th>sex</th>\n",
       "      <th>smoker</th>\n",
       "      <th>day</th>\n",
       "      <th>time</th>\n",
       "      <th>size</th>\n",
       "    </tr>\n",
       "  </thead>\n",
       "  <tbody>\n",
       "    <tr>\n",
       "      <th>0</th>\n",
       "      <td>16.99</td>\n",
       "      <td>1.01</td>\n",
       "      <td>Female</td>\n",
       "      <td>No</td>\n",
       "      <td>Sun</td>\n",
       "      <td>Dinner</td>\n",
       "      <td>2</td>\n",
       "    </tr>\n",
       "    <tr>\n",
       "      <th>1</th>\n",
       "      <td>10.34</td>\n",
       "      <td>1.66</td>\n",
       "      <td>Male</td>\n",
       "      <td>No</td>\n",
       "      <td>Sun</td>\n",
       "      <td>Dinner</td>\n",
       "      <td>3</td>\n",
       "    </tr>\n",
       "    <tr>\n",
       "      <th>2</th>\n",
       "      <td>21.01</td>\n",
       "      <td>3.50</td>\n",
       "      <td>Male</td>\n",
       "      <td>No</td>\n",
       "      <td>Sun</td>\n",
       "      <td>Dinner</td>\n",
       "      <td>3</td>\n",
       "    </tr>\n",
       "    <tr>\n",
       "      <th>3</th>\n",
       "      <td>23.68</td>\n",
       "      <td>3.31</td>\n",
       "      <td>Male</td>\n",
       "      <td>No</td>\n",
       "      <td>Sun</td>\n",
       "      <td>Dinner</td>\n",
       "      <td>2</td>\n",
       "    </tr>\n",
       "    <tr>\n",
       "      <th>4</th>\n",
       "      <td>24.59</td>\n",
       "      <td>3.61</td>\n",
       "      <td>Female</td>\n",
       "      <td>No</td>\n",
       "      <td>Sun</td>\n",
       "      <td>Dinner</td>\n",
       "      <td>4</td>\n",
       "    </tr>\n",
       "  </tbody>\n",
       "</table>\n",
       "</div>"
      ],
      "text/plain": [
       "   total_bill   tip     sex smoker  day    time  size\n",
       "0       16.99  1.01  Female     No  Sun  Dinner     2\n",
       "1       10.34  1.66    Male     No  Sun  Dinner     3\n",
       "2       21.01  3.50    Male     No  Sun  Dinner     3\n",
       "3       23.68  3.31    Male     No  Sun  Dinner     2\n",
       "4       24.59  3.61  Female     No  Sun  Dinner     4"
      ]
     },
     "execution_count": 2,
     "metadata": {},
     "output_type": "execute_result"
    }
   ],
   "source": [
    "tips = sns.load_dataset(\"tips\")\n",
    "print(tips.shape)\n",
    "tips.head()"
   ]
  },
  {
   "cell_type": "code",
   "execution_count": 4,
   "metadata": {
    "ExecuteTime": {
     "end_time": "2020-08-11T08:44:46.549590Z",
     "start_time": "2020-08-11T08:44:46.535230Z"
    }
   },
   "outputs": [
    {
     "data": {
      "text/html": [
       "<div>\n",
       "<style scoped>\n",
       "    .dataframe tbody tr th:only-of-type {\n",
       "        vertical-align: middle;\n",
       "    }\n",
       "\n",
       "    .dataframe tbody tr th {\n",
       "        vertical-align: top;\n",
       "    }\n",
       "\n",
       "    .dataframe thead th {\n",
       "        text-align: right;\n",
       "    }\n",
       "</style>\n",
       "<table border=\"1\" class=\"dataframe\">\n",
       "  <thead>\n",
       "    <tr style=\"text-align: right;\">\n",
       "      <th></th>\n",
       "      <th>total_bill</th>\n",
       "      <th>tip</th>\n",
       "      <th>size</th>\n",
       "      <th>sex_Male</th>\n",
       "      <th>sex_Female</th>\n",
       "      <th>smoker_Yes</th>\n",
       "      <th>smoker_No</th>\n",
       "      <th>day_Thur</th>\n",
       "      <th>day_Fri</th>\n",
       "      <th>day_Sat</th>\n",
       "      <th>day_Sun</th>\n",
       "      <th>time_Lunch</th>\n",
       "      <th>time_Dinner</th>\n",
       "    </tr>\n",
       "  </thead>\n",
       "  <tbody>\n",
       "    <tr>\n",
       "      <th>0</th>\n",
       "      <td>16.99</td>\n",
       "      <td>1.01</td>\n",
       "      <td>2</td>\n",
       "      <td>0</td>\n",
       "      <td>1</td>\n",
       "      <td>0</td>\n",
       "      <td>1</td>\n",
       "      <td>0</td>\n",
       "      <td>0</td>\n",
       "      <td>0</td>\n",
       "      <td>1</td>\n",
       "      <td>0</td>\n",
       "      <td>1</td>\n",
       "    </tr>\n",
       "    <tr>\n",
       "      <th>1</th>\n",
       "      <td>10.34</td>\n",
       "      <td>1.66</td>\n",
       "      <td>3</td>\n",
       "      <td>1</td>\n",
       "      <td>0</td>\n",
       "      <td>0</td>\n",
       "      <td>1</td>\n",
       "      <td>0</td>\n",
       "      <td>0</td>\n",
       "      <td>0</td>\n",
       "      <td>1</td>\n",
       "      <td>0</td>\n",
       "      <td>1</td>\n",
       "    </tr>\n",
       "    <tr>\n",
       "      <th>2</th>\n",
       "      <td>21.01</td>\n",
       "      <td>3.50</td>\n",
       "      <td>3</td>\n",
       "      <td>1</td>\n",
       "      <td>0</td>\n",
       "      <td>0</td>\n",
       "      <td>1</td>\n",
       "      <td>0</td>\n",
       "      <td>0</td>\n",
       "      <td>0</td>\n",
       "      <td>1</td>\n",
       "      <td>0</td>\n",
       "      <td>1</td>\n",
       "    </tr>\n",
       "    <tr>\n",
       "      <th>3</th>\n",
       "      <td>23.68</td>\n",
       "      <td>3.31</td>\n",
       "      <td>2</td>\n",
       "      <td>1</td>\n",
       "      <td>0</td>\n",
       "      <td>0</td>\n",
       "      <td>1</td>\n",
       "      <td>0</td>\n",
       "      <td>0</td>\n",
       "      <td>0</td>\n",
       "      <td>1</td>\n",
       "      <td>0</td>\n",
       "      <td>1</td>\n",
       "    </tr>\n",
       "    <tr>\n",
       "      <th>4</th>\n",
       "      <td>24.59</td>\n",
       "      <td>3.61</td>\n",
       "      <td>4</td>\n",
       "      <td>0</td>\n",
       "      <td>1</td>\n",
       "      <td>0</td>\n",
       "      <td>1</td>\n",
       "      <td>0</td>\n",
       "      <td>0</td>\n",
       "      <td>0</td>\n",
       "      <td>1</td>\n",
       "      <td>0</td>\n",
       "      <td>1</td>\n",
       "    </tr>\n",
       "  </tbody>\n",
       "</table>\n",
       "</div>"
      ],
      "text/plain": [
       "   total_bill   tip  size  sex_Male  sex_Female  smoker_Yes  smoker_No  \\\n",
       "0       16.99  1.01     2         0           1           0          1   \n",
       "1       10.34  1.66     3         1           0           0          1   \n",
       "2       21.01  3.50     3         1           0           0          1   \n",
       "3       23.68  3.31     2         1           0           0          1   \n",
       "4       24.59  3.61     4         0           1           0          1   \n",
       "\n",
       "   day_Thur  day_Fri  day_Sat  day_Sun  time_Lunch  time_Dinner  \n",
       "0         0        0        0        1           0            1  \n",
       "1         0        0        0        1           0            1  \n",
       "2         0        0        0        1           0            1  \n",
       "3         0        0        0        1           0            1  \n",
       "4         0        0        0        1           0            1  "
      ]
     },
     "execution_count": 4,
     "metadata": {},
     "output_type": "execute_result"
    }
   ],
   "source": [
    "import pandas as pd\n",
    "# 카테고리형 데이터 더미변수로 변경\n",
    "tips = pd.get_dummies(tips, columns=['sex', 'smoker', 'day', 'time'])\n",
    "tips.head()"
   ]
  },
  {
   "cell_type": "code",
   "execution_count": 5,
   "metadata": {
    "ExecuteTime": {
     "end_time": "2020-08-11T08:44:53.795338Z",
     "start_time": "2020-08-11T08:44:53.784739Z"
    }
   },
   "outputs": [
    {
     "data": {
      "text/html": [
       "<div>\n",
       "<style scoped>\n",
       "    .dataframe tbody tr th:only-of-type {\n",
       "        vertical-align: middle;\n",
       "    }\n",
       "\n",
       "    .dataframe tbody tr th {\n",
       "        vertical-align: top;\n",
       "    }\n",
       "\n",
       "    .dataframe thead th {\n",
       "        text-align: right;\n",
       "    }\n",
       "</style>\n",
       "<table border=\"1\" class=\"dataframe\">\n",
       "  <thead>\n",
       "    <tr style=\"text-align: right;\">\n",
       "      <th></th>\n",
       "      <th>total_bill</th>\n",
       "      <th>size</th>\n",
       "      <th>sex_Male</th>\n",
       "      <th>sex_Female</th>\n",
       "      <th>smoker_Yes</th>\n",
       "      <th>smoker_No</th>\n",
       "      <th>day_Thur</th>\n",
       "      <th>day_Fri</th>\n",
       "      <th>day_Sat</th>\n",
       "      <th>day_Sun</th>\n",
       "      <th>time_Lunch</th>\n",
       "      <th>time_Dinner</th>\n",
       "      <th>tip</th>\n",
       "    </tr>\n",
       "  </thead>\n",
       "  <tbody>\n",
       "    <tr>\n",
       "      <th>0</th>\n",
       "      <td>16.99</td>\n",
       "      <td>2</td>\n",
       "      <td>0</td>\n",
       "      <td>1</td>\n",
       "      <td>0</td>\n",
       "      <td>1</td>\n",
       "      <td>0</td>\n",
       "      <td>0</td>\n",
       "      <td>0</td>\n",
       "      <td>1</td>\n",
       "      <td>0</td>\n",
       "      <td>1</td>\n",
       "      <td>1.01</td>\n",
       "    </tr>\n",
       "    <tr>\n",
       "      <th>1</th>\n",
       "      <td>10.34</td>\n",
       "      <td>3</td>\n",
       "      <td>1</td>\n",
       "      <td>0</td>\n",
       "      <td>0</td>\n",
       "      <td>1</td>\n",
       "      <td>0</td>\n",
       "      <td>0</td>\n",
       "      <td>0</td>\n",
       "      <td>1</td>\n",
       "      <td>0</td>\n",
       "      <td>1</td>\n",
       "      <td>1.66</td>\n",
       "    </tr>\n",
       "    <tr>\n",
       "      <th>2</th>\n",
       "      <td>21.01</td>\n",
       "      <td>3</td>\n",
       "      <td>1</td>\n",
       "      <td>0</td>\n",
       "      <td>0</td>\n",
       "      <td>1</td>\n",
       "      <td>0</td>\n",
       "      <td>0</td>\n",
       "      <td>0</td>\n",
       "      <td>1</td>\n",
       "      <td>0</td>\n",
       "      <td>1</td>\n",
       "      <td>3.50</td>\n",
       "    </tr>\n",
       "    <tr>\n",
       "      <th>3</th>\n",
       "      <td>23.68</td>\n",
       "      <td>2</td>\n",
       "      <td>1</td>\n",
       "      <td>0</td>\n",
       "      <td>0</td>\n",
       "      <td>1</td>\n",
       "      <td>0</td>\n",
       "      <td>0</td>\n",
       "      <td>0</td>\n",
       "      <td>1</td>\n",
       "      <td>0</td>\n",
       "      <td>1</td>\n",
       "      <td>3.31</td>\n",
       "    </tr>\n",
       "    <tr>\n",
       "      <th>4</th>\n",
       "      <td>24.59</td>\n",
       "      <td>4</td>\n",
       "      <td>0</td>\n",
       "      <td>1</td>\n",
       "      <td>0</td>\n",
       "      <td>1</td>\n",
       "      <td>0</td>\n",
       "      <td>0</td>\n",
       "      <td>0</td>\n",
       "      <td>1</td>\n",
       "      <td>0</td>\n",
       "      <td>1</td>\n",
       "      <td>3.61</td>\n",
       "    </tr>\n",
       "  </tbody>\n",
       "</table>\n",
       "</div>"
      ],
      "text/plain": [
       "   total_bill  size  sex_Male  sex_Female  smoker_Yes  smoker_No  day_Thur  \\\n",
       "0       16.99     2         0           1           0          1         0   \n",
       "1       10.34     3         1           0           0          1         0   \n",
       "2       21.01     3         1           0           0          1         0   \n",
       "3       23.68     2         1           0           0          1         0   \n",
       "4       24.59     4         0           1           0          1         0   \n",
       "\n",
       "   day_Fri  day_Sat  day_Sun  time_Lunch  time_Dinner   tip  \n",
       "0        0        0        1           0            1  1.01  \n",
       "1        0        0        1           0            1  1.66  \n",
       "2        0        0        1           0            1  3.50  \n",
       "3        0        0        1           0            1  3.31  \n",
       "4        0        0        1           0            1  3.61  "
      ]
     },
     "execution_count": 5,
     "metadata": {},
     "output_type": "execute_result"
    }
   ],
   "source": [
    "tips = tips[['total_bill', 'size', 'sex_Male', 'sex_Female', 'smoker_Yes', 'smoker_No',\n",
    "             'day_Thur', 'day_Fri', 'day_Sat', 'day_Sun', 'time_Lunch', 'time_Dinner', 'tip']]\n",
    "tips.head()"
   ]
  },
  {
   "cell_type": "code",
   "execution_count": 6,
   "metadata": {
    "ExecuteTime": {
     "end_time": "2020-08-11T08:45:43.594686Z",
     "start_time": "2020-08-11T08:45:43.476091Z"
    }
   },
   "outputs": [
    {
     "name": "stdout",
     "output_type": "stream",
     "text": [
      "(195, 12) (195,)\n",
      "(49, 12) (49,)\n"
     ]
    }
   ],
   "source": [
    "X = tips[['total_bill', 'size', 'sex_Male', 'sex_Female', 'smoker_Yes', 'smoker_No',\n",
    "          'day_Thur', 'day_Fri', 'day_Sat', 'day_Sun', 'time_Lunch', 'time_Dinner']].values\n",
    "y = tips['tip'].values\n",
    "\n",
    "from sklearn.model_selection import train_test_split\n",
    "\n",
    "X_train, X_test, y_train, y_test = train_test_split(X, y, test_size=0.2, random_state=42)\n",
    "\n",
    "print(X_train.shape, y_train.shape)\n",
    "print(X_test.shape, y_test.shape)"
   ]
  },
  {
   "cell_type": "code",
   "execution_count": 9,
   "metadata": {
    "ExecuteTime": {
     "end_time": "2020-08-11T08:52:33.386746Z",
     "start_time": "2020-08-11T08:52:33.371082Z"
    }
   },
   "outputs": [
    {
     "name": "stdout",
     "output_type": "stream",
     "text": [
      "dW: [17409.68436724  2086.22389493   500.62813889   243.03480839\n",
      "   293.13880142   450.52414587   169.7899376     51.39445336\n",
      "   272.7084367    249.77011963   181.84155981   561.82138748]\n",
      "db: 36.57358757136956\n"
     ]
    }
   ],
   "source": [
    "W = np.random.rand(12)\n",
    "b = np.random.rand()\n",
    "\n",
    "def model(X, W, b):\n",
    "    predictions = 0\n",
    "    for i in range(12):\n",
    "        predictions += X[:, i] * W[i]\n",
    "    predictions += b\n",
    "    return predictions\n",
    "def MSE(a, b):\n",
    "    mse = ((a - b) ** 2).mean()  # 두 값의 차이의 제곱의 평균\n",
    "    return mse\n",
    "def loss(X, W, b, y):\n",
    "    predictions = model(X, W, b)\n",
    "    L = MSE(predictions, y)\n",
    "    return L\n",
    "def gradient(X, W, b, y):\n",
    "    # N은 가중치의 개수\n",
    "    N = len(W)\n",
    "    \n",
    "    # y_pred 준비\n",
    "    y_pred = model(X, W, b)\n",
    "    \n",
    "    # 공식에 맞게 gradient 계산\n",
    "    dW = 1/N * 2 * X.T.dot(y_pred - y)\n",
    "        \n",
    "    # b의 gradient 계산\n",
    "    db = 2 * (y_pred - y).mean()\n",
    "    return dW, db\n",
    "dW, db = gradient(X, W, b, y)\n",
    "print(\"dW:\", dW)\n",
    "print(\"db:\", db)"
   ]
  },
  {
   "cell_type": "code",
   "execution_count": 10,
   "metadata": {
    "ExecuteTime": {
     "end_time": "2020-08-11T08:52:47.440669Z",
     "start_time": "2020-08-11T08:52:47.225002Z"
    }
   },
   "outputs": [
    {
     "name": "stdout",
     "output_type": "stream",
     "text": [
      "Iteration 10 : Loss 1.4781\n",
      "Iteration 20 : Loss 1.4497\n",
      "Iteration 30 : Loss 1.4388\n",
      "Iteration 40 : Loss 1.4286\n",
      "Iteration 50 : Loss 1.4189\n",
      "Iteration 60 : Loss 1.4097\n",
      "Iteration 70 : Loss 1.4010\n",
      "Iteration 80 : Loss 1.3927\n",
      "Iteration 90 : Loss 1.3849\n",
      "Iteration 100 : Loss 1.3774\n",
      "Iteration 110 : Loss 1.3704\n",
      "Iteration 120 : Loss 1.3637\n",
      "Iteration 130 : Loss 1.3573\n",
      "Iteration 140 : Loss 1.3512\n",
      "Iteration 150 : Loss 1.3454\n",
      "Iteration 160 : Loss 1.3399\n",
      "Iteration 170 : Loss 1.3346\n",
      "Iteration 180 : Loss 1.3295\n",
      "Iteration 190 : Loss 1.3247\n",
      "Iteration 200 : Loss 1.3201\n",
      "Iteration 210 : Loss 1.3157\n",
      "Iteration 220 : Loss 1.3115\n",
      "Iteration 230 : Loss 1.3074\n",
      "Iteration 240 : Loss 1.3035\n",
      "Iteration 250 : Loss 1.2998\n",
      "Iteration 260 : Loss 1.2962\n",
      "Iteration 270 : Loss 1.2927\n",
      "Iteration 280 : Loss 1.2894\n",
      "Iteration 290 : Loss 1.2862\n",
      "Iteration 300 : Loss 1.2831\n",
      "Iteration 310 : Loss 1.2801\n",
      "Iteration 320 : Loss 1.2772\n",
      "Iteration 330 : Loss 1.2744\n",
      "Iteration 340 : Loss 1.2717\n",
      "Iteration 350 : Loss 1.2691\n",
      "Iteration 360 : Loss 1.2666\n",
      "Iteration 370 : Loss 1.2641\n",
      "Iteration 380 : Loss 1.2617\n",
      "Iteration 390 : Loss 1.2594\n",
      "Iteration 400 : Loss 1.2571\n",
      "Iteration 410 : Loss 1.2550\n",
      "Iteration 420 : Loss 1.2528\n",
      "Iteration 430 : Loss 1.2507\n",
      "Iteration 440 : Loss 1.2487\n",
      "Iteration 450 : Loss 1.2468\n",
      "Iteration 460 : Loss 1.2448\n",
      "Iteration 470 : Loss 1.2429\n",
      "Iteration 480 : Loss 1.2411\n",
      "Iteration 490 : Loss 1.2393\n",
      "Iteration 500 : Loss 1.2376\n",
      "Iteration 510 : Loss 1.2359\n",
      "Iteration 520 : Loss 1.2342\n",
      "Iteration 530 : Loss 1.2325\n",
      "Iteration 540 : Loss 1.2309\n",
      "Iteration 550 : Loss 1.2294\n",
      "Iteration 560 : Loss 1.2278\n",
      "Iteration 570 : Loss 1.2263\n",
      "Iteration 580 : Loss 1.2248\n",
      "Iteration 590 : Loss 1.2234\n",
      "Iteration 600 : Loss 1.2219\n",
      "Iteration 610 : Loss 1.2205\n",
      "Iteration 620 : Loss 1.2191\n",
      "Iteration 630 : Loss 1.2178\n",
      "Iteration 640 : Loss 1.2164\n",
      "Iteration 650 : Loss 1.2151\n",
      "Iteration 660 : Loss 1.2138\n",
      "Iteration 670 : Loss 1.2126\n",
      "Iteration 680 : Loss 1.2113\n",
      "Iteration 690 : Loss 1.2101\n",
      "Iteration 700 : Loss 1.2089\n",
      "Iteration 710 : Loss 1.2077\n",
      "Iteration 720 : Loss 1.2065\n",
      "Iteration 730 : Loss 1.2053\n",
      "Iteration 740 : Loss 1.2042\n",
      "Iteration 750 : Loss 1.2031\n",
      "Iteration 760 : Loss 1.2020\n",
      "Iteration 770 : Loss 1.2009\n",
      "Iteration 780 : Loss 1.1998\n",
      "Iteration 790 : Loss 1.1987\n",
      "Iteration 800 : Loss 1.1977\n",
      "Iteration 810 : Loss 1.1966\n",
      "Iteration 820 : Loss 1.1956\n",
      "Iteration 830 : Loss 1.1946\n",
      "Iteration 840 : Loss 1.1936\n",
      "Iteration 850 : Loss 1.1926\n",
      "Iteration 860 : Loss 1.1917\n",
      "Iteration 870 : Loss 1.1907\n",
      "Iteration 880 : Loss 1.1898\n",
      "Iteration 890 : Loss 1.1888\n",
      "Iteration 900 : Loss 1.1879\n",
      "Iteration 910 : Loss 1.1870\n",
      "Iteration 920 : Loss 1.1861\n",
      "Iteration 930 : Loss 1.1852\n",
      "Iteration 940 : Loss 1.1843\n",
      "Iteration 950 : Loss 1.1835\n",
      "Iteration 960 : Loss 1.1826\n",
      "Iteration 970 : Loss 1.1818\n",
      "Iteration 980 : Loss 1.1809\n",
      "Iteration 990 : Loss 1.1801\n",
      "Iteration 1000 : Loss 1.1793\n"
     ]
    },
    {
     "data": {
      "image/png": "[encoded data removed]",
      "text/plain": [
       "<Figure size 432x288 with 1 Axes>"
      ]
     },
     "metadata": {
      "image/png": {
       "height": 248,
       "width": 375
      },
      "needs_background": "light"
     },
     "output_type": "display_data"
    }
   ],
   "source": [
    "import matplotlib.pyplot as plt\n",
    "%matplotlib inline\n",
    "%config InlineBackend.figure_format = 'retina'\n",
    "LEARNING_RATE = 0.0001\n",
    "losses = []\n",
    "\n",
    "for i in range(1, 1001):\n",
    "    dW, db = gradient(X_train, W, b, y_train)\n",
    "    W -= LEARNING_RATE * dW\n",
    "    b -= LEARNING_RATE * db\n",
    "    L = loss(X_train, W, b, y_train)\n",
    "    losses.append(L)\n",
    "    if i % 10 == 0:\n",
    "        print('Iteration %d : Loss %0.4f' % (i, L))\n",
    "plt.plot(losses)\n",
    "plt.show()"
   ]
  },
  {
   "cell_type": "code",
   "execution_count": 11,
   "metadata": {
    "ExecuteTime": {
     "end_time": "2020-08-11T08:53:26.588720Z",
     "start_time": "2020-08-11T08:53:26.585480Z"
    }
   },
   "outputs": [
    {
     "data": {
      "text/plain": [
       "(array([ 0.08867891,  0.00931229, -0.03900374, -0.07704375, -0.0184248 ,\n",
       "         0.24442595,  0.1021067 ,  0.82682943,  0.49549509,  0.65197802,\n",
       "         0.22331156, -0.19537099]),\n",
       " 0.8611965055802179)"
      ]
     },
     "execution_count": 11,
     "metadata": {},
     "output_type": "execute_result"
    }
   ],
   "source": [
    "W, b"
   ]
  },
  {
   "cell_type": "code",
   "execution_count": 12,
   "metadata": {
    "ExecuteTime": {
     "end_time": "2020-08-11T08:53:30.928902Z",
     "start_time": "2020-08-11T08:53:30.924350Z"
    }
   },
   "outputs": [
    {
     "data": {
      "text/plain": [
       "0.67647307522244"
      ]
     },
     "execution_count": 12,
     "metadata": {},
     "output_type": "execute_result"
    }
   ],
   "source": [
    "prediction = model(X_test, W, b)\n",
    "mse = loss(X_test, W, b, y_test)\n",
    "mse"
   ]
  },
  {
   "cell_type": "code",
   "execution_count": 13,
   "metadata": {
    "ExecuteTime": {
     "end_time": "2020-08-11T08:53:39.591486Z",
     "start_time": "2020-08-11T08:53:39.491456Z"
    }
   },
   "outputs": [
    {
     "data": {
      "image/png": "[encoded data removed]",
      "text/plain": [
       "<Figure size 432x288 with 1 Axes>"
      ]
     },
     "metadata": {
      "image/png": {
       "height": 248,
       "width": 366
      },
      "needs_background": "light"
     },
     "output_type": "display_data"
    }
   ],
   "source": [
    "plt.scatter(X_test[:, 0], y_test)\n",
    "plt.scatter(X_test[:, 0], prediction)\n",
    "plt.show()"
   ]
  },
  {
   "cell_type": "markdown",
   "metadata": {},
   "source": [
    "## Using Scikit-learn"
   ]
  },
  {
   "cell_type": "code",
   "execution_count": 18,
   "metadata": {
    "ExecuteTime": {
     "end_time": "2020-08-11T09:05:23.770113Z",
     "start_time": "2020-08-11T09:05:23.751876Z"
    }
   },
   "outputs": [
    {
     "name": "stdout",
     "output_type": "stream",
     "text": [
      "[[16.99  2.    0.   ...  1.    0.    1.  ]\n",
      " [10.34  3.    1.   ...  1.    0.    1.  ]\n",
      " [21.01  3.    1.   ...  1.    0.    1.  ]\n",
      " ...\n",
      " [22.67  2.    1.   ...  0.    0.    1.  ]\n",
      " [17.82  2.    1.   ...  0.    0.    1.  ]\n",
      " [18.78  2.    0.   ...  0.    0.    1.  ]] <class 'numpy.ndarray'> [ 1.01  1.66  3.5   3.31  3.61  4.71  2.    3.12  1.96  3.23  1.71  5.\n",
      "  1.57  3.    3.02  3.92  1.67  3.71  3.5   3.35  4.08  2.75  2.23  7.58\n",
      "  3.18  2.34  2.    2.    4.3   3.    1.45  2.5   3.    2.45  3.27  3.6\n",
      "  2.    3.07  2.31  5.    2.24  2.54  3.06  1.32  5.6   3.    5.    6.\n",
      "  2.05  3.    2.5   2.6   5.2   1.56  4.34  3.51  3.    1.5   1.76  6.73\n",
      "  3.21  2.    1.98  3.76  2.64  3.15  2.47  1.    2.01  2.09  1.97  3.\n",
      "  3.14  5.    2.2   1.25  3.08  4.    3.    2.71  3.    3.4   1.83  5.\n",
      "  2.03  5.17  2.    4.    5.85  3.    3.    3.5   1.    4.3   3.25  4.73\n",
      "  4.    1.5   3.    1.5   2.5   3.    2.5   3.48  4.08  1.64  4.06  4.29\n",
      "  3.76  4.    3.    1.    4.    2.55  4.    3.5   5.07  1.5   1.8   2.92\n",
      "  2.31  1.68  2.5   2.    2.52  4.2   1.48  2.    2.    2.18  1.5   2.83\n",
      "  1.5   2.    3.25  1.25  2.    2.    2.    2.75  3.5   6.7   5.    5.\n",
      "  2.3   1.5   1.36  1.63  1.73  2.    2.5   2.    2.74  2.    2.    5.14\n",
      "  5.    3.75  2.61  2.    3.5   2.5   2.    2.    3.    3.48  2.24  4.5\n",
      "  1.61  2.   10.    3.16  5.15  3.18  4.    3.11  2.    2.    4.    3.55\n",
      "  3.68  5.65  3.5   6.5   3.    5.    3.5   2.    3.5   4.    1.5   4.19\n",
      "  2.56  2.02  4.    1.44  2.    5.    2.    2.    4.    2.01  2.    2.5\n",
      "  4.    3.23  3.41  3.    2.03  2.23  2.    5.16  9.    2.5   6.5   1.1\n",
      "  3.    1.5   1.44  3.09  2.2   3.48  1.92  3.    1.58  2.5   2.    3.\n",
      "  2.72  2.88  2.    3.    3.39  1.47  3.    1.25  1.    1.17  4.67  5.92\n",
      "  2.    2.    1.75  3.  ] <class 'numpy.ndarray'>\n"
     ]
    },
    {
     "data": {
      "text/plain": [
       "array([2.91436632, 2.00292613, 3.96425583, 3.76380832, 2.14836306,\n",
       "       2.67423448, 3.63934628, 2.29147245, 2.57207155, 2.45851225,\n",
       "       2.90446763, 2.0573337 , 2.11817193, 2.35130838, 1.82976215,\n",
       "       3.10830675, 2.95140176, 3.21602976, 2.56640892, 5.73957295,\n",
       "       3.43490366, 3.22645102, 2.17139823, 1.94180002, 3.16394533,\n",
       "       2.24547894, 2.14497574, 3.21025435, 3.20097595, 6.66803147,\n",
       "       5.01111235, 1.57804024, 3.1909877 , 2.76652194, 2.98412862,\n",
       "       3.85695724, 2.17008741, 5.46673999, 2.35586827, 2.99190732,\n",
       "       2.03271177, 2.48465991, 3.44046814, 2.35532237, 1.92528104,\n",
       "       0.87348926, 1.81911521, 3.04083954, 1.85436902])"
      ]
     },
     "execution_count": 18,
     "metadata": {},
     "output_type": "execute_result"
    }
   ],
   "source": [
    "tips = sns.load_dataset(\"tips\")\n",
    "tips = pd.get_dummies(tips, columns=['sex', 'smoker', 'day', 'time'])\n",
    "tips = tips[['total_bill', 'size', 'sex_Male', 'sex_Female', 'smoker_Yes', 'smoker_No',\n",
    "             'day_Thur', 'day_Fri', 'day_Sat', 'day_Sun', 'time_Lunch', 'time_Dinner', 'tip']]\n",
    "X = tips[['total_bill', 'size', 'sex_Male', 'sex_Female', 'smoker_Yes', 'smoker_No',\n",
    "          'day_Thur', 'day_Fri', 'day_Sat', 'day_Sun', 'time_Lunch', 'time_Dinner']].values\n",
    "y = tips['tip'].values\n",
    "print(X,type(X),y,type(y))\n",
    "X_train, X_test, y_train, y_test = train_test_split(X, y, test_size=0.2, random_state=42)\n",
    "\n",
    "from sklearn.linear_model import LinearRegression\n",
    "\n",
    "model = LinearRegression()\n",
    "\n",
    "model.fit(X_train, y_train)\n",
    "\n",
    "predictions = model.predict(X_test)\n",
    "predictions"
   ]
  },
  {
   "cell_type": "code",
   "execution_count": 16,
   "metadata": {
    "ExecuteTime": {
     "end_time": "2020-08-11T08:56:24.548104Z",
     "start_time": "2020-08-11T08:56:24.544083Z"
    }
   },
   "outputs": [
    {
     "data": {
      "text/plain": [
       "0.7033566017436103"
      ]
     },
     "execution_count": 16,
     "metadata": {},
     "output_type": "execute_result"
    }
   ],
   "source": [
    "from sklearn.metrics import mean_squared_error\n",
    "\n",
    "mse = mean_squared_error(y_test, predictions)\n",
    "mse"
   ]
  },
  {
   "cell_type": "code",
   "execution_count": 17,
   "metadata": {
    "ExecuteTime": {
     "end_time": "2020-08-11T08:56:28.234672Z",
     "start_time": "2020-08-11T08:56:28.109172Z"
    }
   },
   "outputs": [
    {
     "data": {
      "image/png": "[encoded data removed]",
      "text/plain": [
       "<Figure size 432x288 with 1 Axes>"
      ]
     },
     "metadata": {
      "image/png": {
       "height": 248,
       "width": 366
      },
      "needs_background": "light"
     },
     "output_type": "display_data"
    }
   ],
   "source": [
    "plt.scatter(X_test[:, 0], y_test, label=\"true\")\n",
    "plt.scatter(X_test[:, 0], predictions, label=\"pred\")\n",
    "plt.legend()\n",
    "plt.show()"
   ]
  }
 ],
 "metadata": {
  "kernelspec": {
   "display_name": "Python 3",
   "language": "python",
   "name": "python3"
  },
  "language_info": {
   "codemirror_mode": {
    "name": "ipython",
    "version": 3
   },
   "file_extension": ".py",
   "mimetype": "text/x-python",
   "name": "python",
   "nbconvert_exporter": "python",
   "pygments_lexer": "ipython3",
   "version": "3.7.7"
  },
  "toc": {
   "base_numbering": 1,
   "nav_menu": {},
   "number_sections": true,
   "sideBar": true,
   "skip_h1_title": false,
   "title_cell": "Table of Contents",
   "title_sidebar": "Contents",
   "toc_cell": false,
   "toc_position": {},
   "toc_section_display": true,
   "toc_window_display": false
  },
  "varInspector": {
   "cols": {
    "lenName": 16,
    "lenType": 16,
    "lenVar": 40
   },
   "kernels_config": {
    "python": {
     "delete_cmd_postfix": "",
     "delete_cmd_prefix": "del ",
     "library": "var_list.py",
     "varRefreshCmd": "print(var_dic_list())"
    },
    "r": {
     "delete_cmd_postfix": ") ",
     "delete_cmd_prefix": "rm(",
     "library": "var_list.r",
     "varRefreshCmd": "cat(var_dic_list()) "
    }
   },
   "types_to_exclude": [
    "module",
    "function",
    "builtin_function_or_method",
    "instance",
    "_Feature"
   ],
   "window_display": false
  }
 },
 "nbformat": 4,
 "nbformat_minor": 4
}
