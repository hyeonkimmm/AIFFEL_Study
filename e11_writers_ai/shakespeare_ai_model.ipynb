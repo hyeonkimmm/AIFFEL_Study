{
 "cells": [
  {
   "cell_type": "markdown",
   "metadata": {},
   "source": [
    "# 셰익스피어 언어 모델 만들기"
   ]
  },
  {
   "cell_type": "code",
   "execution_count": 1,
   "metadata": {
    "ExecuteTime": {
     "end_time": "2020-09-10T01:07:20.839412Z",
     "start_time": "2020-09-10T01:07:19.692830Z"
    }
   },
   "outputs": [
    {
     "name": "stdout",
     "output_type": "stream",
     "text": [
      "['First Citizen:', 'Before we proceed any further, hear me speak.', '', 'All:', 'Speak, speak.', '', 'First Citizen:', 'You are all resolved rather to die than to famish?', '']\n"
     ]
    }
   ],
   "source": [
    "import re                  # 정규표현식을 위한 Regex 지원 모듈 (문장 데이터를 정돈하기 위해) \n",
    "import numpy as np         # 변환된 문장 데이터(행렬)을 편하게 처리하기 위해\n",
    "import tensorflow as tf    # 대망의 텐서플로우!\n",
    "import os\n",
    "\n",
    "# 파일을 읽기모드로 열어 봅니다.\n",
    "file_path = 'data/shakespeare.txt'\n",
    "with open(file_path, \"r\") as f:\n",
    "    raw_corpus = f.read().splitlines()   # 텍스트를 라인 단위로 끊어서 list 형태로 읽어옵니다.\n",
    "\n",
    "print(raw_corpus[:9])    # 앞에서부터 10라인만 화면에 출력해 볼까요?"
   ]
  },
  {
   "cell_type": "code",
   "execution_count": 2,
   "metadata": {
    "ExecuteTime": {
     "end_time": "2020-09-10T01:07:35.938197Z",
     "start_time": "2020-09-10T01:07:35.935602Z"
    }
   },
   "outputs": [
    {
     "name": "stdout",
     "output_type": "stream",
     "text": [
      "Before we proceed any further, hear me speak.\n",
      "Speak, speak.\n",
      "You are all resolved rather to die than to famish?\n"
     ]
    }
   ],
   "source": [
    "for idx, sentence in enumerate(raw_corpus):\n",
    "    if len(sentence) == 0: continue   # 길이가 0인 문장은 건너뜁니다.\n",
    "    if sentence[-1] == \":\": continue  # 문장의 끝이 : 인 문장은 건너뜁니다.\n",
    "\n",
    "    if idx > 9: break   # 일단 문장 10개만 확인해 볼 겁니다.\n",
    "        \n",
    "    print(sentence)"
   ]
  },
  {
   "cell_type": "code",
   "execution_count": 4,
   "metadata": {
    "ExecuteTime": {
     "end_time": "2020-09-10T01:08:41.502525Z",
     "start_time": "2020-09-10T01:08:41.498924Z"
    }
   },
   "outputs": [
    {
     "name": "stdout",
     "output_type": "stream",
     "text": [
      "<start> this is sample sentence . <end>\n"
     ]
    }
   ],
   "source": [
    "def preprocess_sentence(sentence):\n",
    "    sentence = sentence.lower().strip()       # 소문자로 바꾸고 양쪽 공백을 삭제\n",
    "  \n",
    "    # 아래 3단계를 거쳐 sentence는 스페이스 1개를 delimeter로 하는 소문자 단어 시퀀스로 바뀝니다.\n",
    "    sentence = re.sub(r\"([?.!,¿])\", r\" \\1 \", sentence)        # 패턴의 특수문자를 만나면 특수문자 양쪽에 공백을 추가\n",
    "    sentence = re.sub(r'[\" \"]+', \" \", sentence)                  # 공백 패턴을 만나면 스페이스 1개로 치환\n",
    "    sentence = re.sub(r\"[^a-zA-Z?.!,¿]+\", \" \", sentence)  # a-zA-Z?.!,¿ 패턴을 제외한 모든 문자(공백문자까지도)를 스페이스 1개로 치환\n",
    "\n",
    "    sentence = sentence.strip()\n",
    "\n",
    "    sentence = '<start> ' + sentence + ' <end>'      # 이전 스텝에서 본 것처럼 문장 앞뒤로 <start>와 <end>를 단어처럼 붙여 줍니다\n",
    "    \n",
    "    return sentence\n",
    "\n",
    "print(preprocess_sentence(\"This @_is ;;;sample        sentence.\"))   # 이 문장이 어떻게 필터링되는지 확인해 보세요."
   ]
  },
  {
   "cell_type": "code",
   "execution_count": 5,
   "metadata": {
    "ExecuteTime": {
     "end_time": "2020-09-10T01:16:23.450756Z",
     "start_time": "2020-09-10T01:16:23.207510Z"
    }
   },
   "outputs": [
    {
     "data": {
      "text/plain": [
       "['<start> before we proceed any further , hear me speak . <end>',\n",
       " '<start> speak , speak . <end>',\n",
       " '<start> you are all resolved rather to die than to famish ? <end>',\n",
       " '<start> resolved . resolved . <end>',\n",
       " '<start> first , you know caius marcius is chief enemy to the people . <end>',\n",
       " '<start> we know t , we know t . <end>',\n",
       " '<start> let us kill him , and we ll have corn at our own price . <end>',\n",
       " '<start> is t a verdict ? <end>',\n",
       " '<start> no more talking on t let it be done away , away ! <end>',\n",
       " '<start> one word , good citizens . <end>']"
      ]
     },
     "execution_count": 5,
     "metadata": {},
     "output_type": "execute_result"
    }
   ],
   "source": [
    "corpus = []\n",
    "\n",
    "for sentence in raw_corpus:\n",
    "    if len(sentence) == 0: continue\n",
    "    if sentence[-1] == \":\": continue\n",
    "        \n",
    "    corpus.append(preprocess_sentence(sentence))\n",
    "        \n",
    "corpus[:10]"
   ]
  },
  {
   "cell_type": "code",
   "execution_count": 6,
   "metadata": {
    "ExecuteTime": {
     "end_time": "2020-09-10T02:01:02.386313Z",
     "start_time": "2020-09-10T02:01:01.931157Z"
    }
   },
   "outputs": [
    {
     "name": "stdout",
     "output_type": "stream",
     "text": [
      "[[   2  143   40 ...    0    0    0]\n",
      " [   2  110    4 ...    0    0    0]\n",
      " [   2   11   50 ...    0    0    0]\n",
      " ...\n",
      " [   2  149 4553 ...    0    0    0]\n",
      " [   2   34   71 ...    0    0    0]\n",
      " [   2  945   34 ...    0    0    0]] <keras_preprocessing.text.Tokenizer object at 0x7f527c604490>\n"
     ]
    }
   ],
   "source": [
    "def tokenize(corpus):\n",
    "    # 텐서플로우에서 제공하는 Tokenizer 패키지를 생성\n",
    "    tokenizer = tf.keras.preprocessing.text.Tokenizer(\n",
    "        num_words=7000,  # 전체 단어의 개수 \n",
    "        filters=' ',    # 별도로 전처리 로직을 추가할 수 있습니다. 이번에는 사용하지 않겠습니다.\n",
    "        oov_token=\"<unk>\"  # out-of-vocabulary, 사전에 없었던 단어는 어떤 토큰으로 대체할지\n",
    "    )\n",
    "    tokenizer.fit_on_texts(corpus)   # 우리가 구축한 corpus로부터 Tokenizer가 사전을 자동구축하게 됩니다.\n",
    "\n",
    "    # 이후 tokenizer를 활용하여 모델에 입력할 데이터셋을 구축하게 됩니다.\n",
    "    tensor = tokenizer.texts_to_sequences(corpus)   # tokenizer는 구축한 사전으로부터 corpus를 해석해 Tensor로 변환합니다.\n",
    "\n",
    "    # 입력 데이터의 시퀀스 길이를 일정하게 맞추기 위한 padding  메소드를 제공합니다.\n",
    "    # maxlen의 디폴트값은 None입니다. 이 경우 corpus의 가장 긴 문장을 기준으로 시퀀스 길이가 맞춰집니다.\n",
    "    tensor = tf.keras.preprocessing.sequence.pad_sequences(tensor, padding='post')  \n",
    "\n",
    "    print(tensor,tokenizer)\n",
    "    return tensor, tokenizer\n",
    "\n",
    "tensor, tokenizer = tokenize(corpus)"
   ]
  },
  {
   "cell_type": "code",
   "execution_count": 7,
   "metadata": {
    "ExecuteTime": {
     "end_time": "2020-09-10T02:01:28.136400Z",
     "start_time": "2020-09-10T02:01:28.133884Z"
    }
   },
   "outputs": [
    {
     "name": "stdout",
     "output_type": "stream",
     "text": [
      "[[   2  143   40  933  140  591    4  124   24  110]\n",
      " [   2  110    4  110    5    3    0    0    0    0]\n",
      " [   2   11   50   43 1201  316    9  201   74    9]]\n"
     ]
    }
   ],
   "source": [
    "print(tensor[:3, :10])"
   ]
  },
  {
   "cell_type": "code",
   "execution_count": 8,
   "metadata": {
    "ExecuteTime": {
     "end_time": "2020-09-10T02:01:33.956097Z",
     "start_time": "2020-09-10T02:01:33.951718Z"
    }
   },
   "outputs": [
    {
     "name": "stdout",
     "output_type": "stream",
     "text": [
      "1 : <unk>\n",
      "2 : <start>\n",
      "3 : <end>\n",
      "4 : ,\n",
      "5 : .\n",
      "6 : the\n",
      "7 : and\n",
      "8 : i\n",
      "9 : to\n",
      "10 : of\n"
     ]
    }
   ],
   "source": [
    "for idx in tokenizer.index_word:\n",
    "    print(idx, \":\", tokenizer.index_word[idx])\n",
    "\n",
    "    if idx >= 10: break"
   ]
  },
  {
   "cell_type": "code",
   "execution_count": 17,
   "metadata": {
    "ExecuteTime": {
     "end_time": "2020-09-10T04:40:31.186094Z",
     "start_time": "2020-09-10T04:40:31.184043Z"
    }
   },
   "outputs": [
    {
     "name": "stdout",
     "output_type": "stream",
     "text": [
      "<class 'numpy.ndarray'>\n"
     ]
    }
   ],
   "source": [
    "print(type(tensor))"
   ]
  },
  {
   "cell_type": "code",
   "execution_count": 18,
   "metadata": {
    "ExecuteTime": {
     "end_time": "2020-09-10T04:40:46.090909Z",
     "start_time": "2020-09-10T04:40:46.088498Z"
    }
   },
   "outputs": [
    {
     "name": "stdout",
     "output_type": "stream",
     "text": [
      "(24015, 21)\n"
     ]
    }
   ],
   "source": [
    "print(tensor.shape)"
   ]
  },
  {
   "cell_type": "code",
   "execution_count": 9,
   "metadata": {
    "ExecuteTime": {
     "end_time": "2020-09-10T02:01:58.528324Z",
     "start_time": "2020-09-10T02:01:58.525931Z"
    }
   },
   "outputs": [
    {
     "name": "stdout",
     "output_type": "stream",
     "text": [
      "[  2 143  40 933 140 591   4 124  24 110   5   3   0   0   0   0   0   0\n",
      "   0   0]\n",
      "[143  40 933 140 591   4 124  24 110   5   3   0   0   0   0   0   0   0\n",
      "   0   0]\n"
     ]
    }
   ],
   "source": [
    "src_input = tensor[:, :-1]  # tensor에서 마지막 토큰을 잘라내서 소스 문장을 생성합니다. 마지막 토큰은 <END>가 아니라 <pad>일 가능성이 높습니다.\n",
    "tgt_input = tensor[:, 1:]    # tensor에서 <START>를 잘라내서 타겟 문장을 생성합니다.\n",
    "\n",
    "print(src_input[0])\n",
    "print(tgt_input[0])"
   ]
  },
  {
   "cell_type": "code",
   "execution_count": 10,
   "metadata": {
    "ExecuteTime": {
     "end_time": "2020-09-10T02:02:04.685518Z",
     "start_time": "2020-09-10T02:02:04.512942Z"
    }
   },
   "outputs": [
    {
     "data": {
      "text/plain": [
       "<BatchDataset shapes: ((256, 20), (256, 20)), types: (tf.int32, tf.int32)>"
      ]
     },
     "execution_count": 10,
     "metadata": {},
     "output_type": "execute_result"
    }
   ],
   "source": [
    "BUFFER_SIZE = len(src_input)\n",
    "BATCH_SIZE = 256\n",
    "steps_per_epoch = len(src_input) // BATCH_SIZE\n",
    "\n",
    "VOCAB_SIZE = tokenizer.num_words + 1    # tokenizer가 구축한 단어사전 내 7000개와, 여기 포함되지 않은 0:<pad>를 포함하여 7001개\n",
    "\n",
    "dataset = tf.data.Dataset.from_tensor_slices((src_input, tgt_input)).shuffle(BUFFER_SIZE)\n",
    "dataset = dataset.batch(BATCH_SIZE, drop_remainder=True)\n",
    "dataset"
   ]
  },
  {
   "cell_type": "code",
   "execution_count": 11,
   "metadata": {
    "ExecuteTime": {
     "end_time": "2020-09-10T02:02:42.681847Z",
     "start_time": "2020-09-10T02:02:42.667962Z"
    }
   },
   "outputs": [],
   "source": [
    "class TextGenerator(tf.keras.Model):\n",
    "    def __init__(self, vocab_size, embedding_size, hidden_size):\n",
    "        super(TextGenerator, self).__init__()\n",
    "        \n",
    "        self.embedding = tf.keras.layers.Embedding(vocab_size, embedding_size)\n",
    "        self.rnn_1 = tf.keras.layers.LSTM(hidden_size, return_sequences=True)\n",
    "        self.rnn_2 = tf.keras.layers.LSTM(hidden_size, return_sequences=True)\n",
    "        self.linear = tf.keras.layers.Dense(vocab_size)\n",
    "        \n",
    "    def call(self, x):\n",
    "        out = self.embedding(x)\n",
    "        out = self.rnn_1(out)\n",
    "        out = self.rnn_2(out)\n",
    "        out = self.linear(out)\n",
    "        \n",
    "        return out\n",
    "    \n",
    "embedding_size = 256\n",
    "hidden_size = 1024\n",
    "model = TextGenerator(tokenizer.num_words + 1, embedding_size , hidden_size)"
   ]
  },
  {
   "cell_type": "code",
   "execution_count": 12,
   "metadata": {
    "ExecuteTime": {
     "end_time": "2020-09-10T02:02:54.637319Z",
     "start_time": "2020-09-10T02:02:50.993334Z"
    }
   },
   "outputs": [
    {
     "data": {
      "text/plain": [
       "<tf.Tensor: shape=(256, 20, 7001), dtype=float32, numpy=\n",
       "array([[[ 1.19428123e-05,  1.95496017e-04,  1.03002261e-04, ...,\n",
       "          5.01888862e-05, -2.21662063e-04, -3.67199100e-05],\n",
       "        [-2.83245521e-04,  2.33461906e-04,  2.70835182e-04, ...,\n",
       "         -1.44904538e-04, -5.48538228e-04,  4.28207350e-05],\n",
       "        [-2.69416807e-04,  4.07272280e-04, -1.76648769e-04, ...,\n",
       "          3.99995653e-04, -3.30698589e-04,  1.37689567e-04],\n",
       "        ...,\n",
       "        [-3.92422371e-05,  3.96246603e-03, -1.18091831e-03, ...,\n",
       "         -2.42886905e-04, -1.96269969e-03, -1.16307172e-03],\n",
       "        [-1.07602136e-04,  4.53319540e-03, -1.34955335e-03, ...,\n",
       "         -2.85713963e-04, -2.36217235e-03, -1.54030649e-03],\n",
       "        [-1.66854792e-04,  5.01588127e-03, -1.48222921e-03, ...,\n",
       "         -3.24426132e-04, -2.74071237e-03, -1.86430907e-03]],\n",
       "\n",
       "       [[ 1.19428123e-05,  1.95496017e-04,  1.03002261e-04, ...,\n",
       "          5.01888862e-05, -2.21662063e-04, -3.67199100e-05],\n",
       "        [ 4.88022033e-06, -1.21517267e-04, -5.93561599e-05, ...,\n",
       "          1.24014419e-04, -4.38821698e-05, -9.37365257e-05],\n",
       "        [ 4.32298657e-05, -4.10042674e-04,  1.89233804e-04, ...,\n",
       "          3.86376487e-04,  3.90408328e-04, -1.78586939e-04],\n",
       "        ...,\n",
       "        [ 7.06060033e-04,  4.89631947e-03, -1.14381616e-03, ...,\n",
       "         -3.90867172e-05, -2.92972219e-03, -2.91403476e-03],\n",
       "        [ 5.43428818e-04,  5.21468511e-03, -1.39608467e-03, ...,\n",
       "         -8.79167146e-06, -3.23372730e-03, -2.99321814e-03],\n",
       "        [ 4.00927005e-04,  5.47790667e-03, -1.59034133e-03, ...,\n",
       "         -1.19925708e-05, -3.51550244e-03, -3.05344746e-03]],\n",
       "\n",
       "       [[ 1.19428123e-05,  1.95496017e-04,  1.03002261e-04, ...,\n",
       "          5.01888862e-05, -2.21662063e-04, -3.67199100e-05],\n",
       "        [ 1.68498809e-04,  7.04877195e-04,  1.20863435e-04, ...,\n",
       "         -6.92283038e-06, -4.76698828e-04, -3.50828632e-04],\n",
       "        [ 9.62570412e-05,  9.70199297e-04,  3.25184606e-04, ...,\n",
       "         -1.07180284e-04, -5.10695390e-04, -2.90154829e-04],\n",
       "        ...,\n",
       "        [ 3.77275428e-04,  3.48881073e-03, -1.44503149e-03, ...,\n",
       "          7.98911424e-05, -1.36710319e-03, -1.28633960e-03],\n",
       "        [ 1.52120454e-04,  4.10636235e-03, -1.59460586e-03, ...,\n",
       "          6.47585184e-05, -1.84743037e-03, -1.51231699e-03],\n",
       "        [-2.32285456e-05,  4.64333454e-03, -1.70537701e-03, ...,\n",
       "          3.55032862e-05, -2.30097352e-03, -1.72247912e-03]],\n",
       "\n",
       "       ...,\n",
       "\n",
       "       [[ 1.19428123e-05,  1.95496017e-04,  1.03002261e-04, ...,\n",
       "          5.01888862e-05, -2.21662063e-04, -3.67199100e-05],\n",
       "        [-2.83245521e-04,  2.33461906e-04,  2.70835182e-04, ...,\n",
       "         -1.44904538e-04, -5.48538228e-04,  4.28207350e-05],\n",
       "        [-3.74176394e-04,  1.59588104e-04, -9.77625023e-05, ...,\n",
       "         -7.73010426e-04, -4.84438176e-04, -3.97501659e-04],\n",
       "        ...,\n",
       "        [-9.71409667e-04,  3.04636755e-03, -1.04171038e-03, ...,\n",
       "         -1.99091864e-05, -9.43223713e-04, -1.81021146e-03],\n",
       "        [-9.08173213e-04,  3.67233995e-03, -1.31521700e-03, ...,\n",
       "         -2.95957016e-05, -1.47064892e-03, -2.02559633e-03],\n",
       "        [-8.41509609e-04,  4.22295416e-03, -1.53130561e-03, ...,\n",
       "         -5.09408092e-05, -1.97343854e-03, -2.21529603e-03]],\n",
       "\n",
       "       [[ 1.19428123e-05,  1.95496017e-04,  1.03002261e-04, ...,\n",
       "          5.01888862e-05, -2.21662063e-04, -3.67199100e-05],\n",
       "        [-1.69081162e-04,  2.64919829e-04,  1.60480136e-04, ...,\n",
       "          3.54066433e-04,  2.74799440e-05, -3.14714453e-05],\n",
       "        [-1.05373452e-04,  2.75074155e-04,  1.86496145e-05, ...,\n",
       "          3.91123875e-04,  3.96200048e-04,  2.35593048e-04],\n",
       "        ...,\n",
       "        [ 3.49107926e-04,  5.73188905e-03, -1.48393644e-03, ...,\n",
       "          1.21016947e-05, -3.16239544e-03, -2.00133608e-03],\n",
       "        [ 1.93339642e-04,  6.07269723e-03, -1.56374439e-03, ...,\n",
       "         -8.09808480e-05, -3.51086212e-03, -2.19942373e-03],\n",
       "        [ 7.25305654e-05,  6.33005705e-03, -1.61814282e-03, ...,\n",
       "         -1.68677609e-04, -3.80498101e-03, -2.37096520e-03]],\n",
       "\n",
       "       [[ 1.19428123e-05,  1.95496017e-04,  1.03002261e-04, ...,\n",
       "          5.01888862e-05, -2.21662063e-04, -3.67199100e-05],\n",
       "        [ 7.49540923e-05,  2.50842160e-04,  2.56512634e-04, ...,\n",
       "          1.62916695e-04, -4.17646836e-04,  2.57621796e-05],\n",
       "        [ 7.54265173e-04,  4.04153718e-04, -1.72875407e-05, ...,\n",
       "          1.15718831e-04, -1.28706204e-04, -1.04132654e-04],\n",
       "        ...,\n",
       "        [-3.28764378e-04,  4.94685490e-03, -2.02541240e-03, ...,\n",
       "         -1.28979271e-04, -2.96190917e-03, -2.97608995e-03],\n",
       "        [-3.29228147e-04,  5.28022554e-03, -2.07672734e-03, ...,\n",
       "         -2.40051537e-04, -3.29383230e-03, -3.07493610e-03],\n",
       "        [-3.23968154e-04,  5.55149233e-03, -2.10084068e-03, ...,\n",
       "         -3.45561944e-04, -3.57813109e-03, -3.14291986e-03]]],\n",
       "      dtype=float32)>"
      ]
     },
     "execution_count": 12,
     "metadata": {},
     "output_type": "execute_result"
    }
   ],
   "source": [
    "for src_sample, tgt_sample in dataset.take(1): break\n",
    "model(src_sample)"
   ]
  },
  {
   "cell_type": "code",
   "execution_count": 13,
   "metadata": {
    "ExecuteTime": {
     "end_time": "2020-09-10T02:03:04.517339Z",
     "start_time": "2020-09-10T02:03:04.513493Z"
    }
   },
   "outputs": [
    {
     "name": "stdout",
     "output_type": "stream",
     "text": [
      "Model: \"text_generator\"\n",
      "_________________________________________________________________\n",
      "Layer (type)                 Output Shape              Param #   \n",
      "=================================================================\n",
      "embedding (Embedding)        multiple                  1792256   \n",
      "_________________________________________________________________\n",
      "lstm (LSTM)                  multiple                  5246976   \n",
      "_________________________________________________________________\n",
      "lstm_1 (LSTM)                multiple                  8392704   \n",
      "_________________________________________________________________\n",
      "dense (Dense)                multiple                  7176025   \n",
      "=================================================================\n",
      "Total params: 22,607,961\n",
      "Trainable params: 22,607,961\n",
      "Non-trainable params: 0\n",
      "_________________________________________________________________\n"
     ]
    }
   ],
   "source": [
    "model.summary()"
   ]
  },
  {
   "cell_type": "code",
   "execution_count": 14,
   "metadata": {
    "ExecuteTime": {
     "end_time": "2020-09-10T02:11:00.681057Z",
     "start_time": "2020-09-10T02:03:10.215939Z"
    }
   },
   "outputs": [
    {
     "name": "stdout",
     "output_type": "stream",
     "text": [
      "Epoch 1/30\n",
      "93/93 [==============================] - 15s 167ms/step - loss: 3.4706\n",
      "Epoch 2/30\n",
      "93/93 [==============================] - 16s 168ms/step - loss: 2.7976\n",
      "Epoch 3/30\n",
      "93/93 [==============================] - 16s 169ms/step - loss: 2.6911\n",
      "Epoch 4/30\n",
      "93/93 [==============================] - 16s 170ms/step - loss: 2.5985\n",
      "Epoch 5/30\n",
      "93/93 [==============================] - 16s 170ms/step - loss: 2.5371\n",
      "Epoch 6/30\n",
      "93/93 [==============================] - 16s 169ms/step - loss: 2.4860\n",
      "Epoch 7/30\n",
      "93/93 [==============================] - 16s 169ms/step - loss: 2.4292\n",
      "Epoch 8/30\n",
      "93/93 [==============================] - 16s 169ms/step - loss: 2.3736\n",
      "Epoch 9/30\n",
      "93/93 [==============================] - 16s 169ms/step - loss: 2.3220\n",
      "Epoch 10/30\n",
      "93/93 [==============================] - 16s 169ms/step - loss: 2.2716\n",
      "Epoch 11/30\n",
      "93/93 [==============================] - 16s 169ms/step - loss: 2.2229\n",
      "Epoch 12/30\n",
      "93/93 [==============================] - 16s 168ms/step - loss: 2.1750\n",
      "Epoch 13/30\n",
      "93/93 [==============================] - 15s 166ms/step - loss: 2.1273\n",
      "Epoch 14/30\n",
      "93/93 [==============================] - 15s 165ms/step - loss: 2.0785\n",
      "Epoch 15/30\n",
      "93/93 [==============================] - 15s 165ms/step - loss: 2.0309\n",
      "Epoch 16/30\n",
      "93/93 [==============================] - 15s 164ms/step - loss: 1.9825\n",
      "Epoch 17/30\n",
      "93/93 [==============================] - 15s 166ms/step - loss: 1.9331\n",
      "Epoch 18/30\n",
      "93/93 [==============================] - 15s 163ms/step - loss: 1.8846\n",
      "Epoch 19/30\n",
      "93/93 [==============================] - 15s 162ms/step - loss: 1.8356\n",
      "Epoch 20/30\n",
      "93/93 [==============================] - 15s 165ms/step - loss: 1.7854\n",
      "Epoch 21/30\n",
      "93/93 [==============================] - 15s 163ms/step - loss: 1.7372\n",
      "Epoch 22/30\n",
      "93/93 [==============================] - 15s 165ms/step - loss: 1.6855\n",
      "Epoch 23/30\n",
      "93/93 [==============================] - 15s 163ms/step - loss: 1.6355\n",
      "Epoch 24/30\n",
      "93/93 [==============================] - 15s 163ms/step - loss: 1.5863\n",
      "Epoch 25/30\n",
      "93/93 [==============================] - 15s 164ms/step - loss: 1.5350\n",
      "Epoch 26/30\n",
      "93/93 [==============================] - 15s 165ms/step - loss: 1.4852\n",
      "Epoch 27/30\n",
      "93/93 [==============================] - 15s 164ms/step - loss: 1.4347\n",
      "Epoch 28/30\n",
      "93/93 [==============================] - 15s 165ms/step - loss: 1.3834\n",
      "Epoch 29/30\n",
      "93/93 [==============================] - 15s 165ms/step - loss: 1.3317\n",
      "Epoch 30/30\n",
      "93/93 [==============================] - 15s 165ms/step - loss: 1.2818\n"
     ]
    },
    {
     "data": {
      "text/plain": [
       "<tensorflow.python.keras.callbacks.History at 0x7f527c8e3850>"
      ]
     },
     "execution_count": 14,
     "metadata": {},
     "output_type": "execute_result"
    }
   ],
   "source": [
    "optimizer = tf.keras.optimizers.Adam()\n",
    "loss = tf.keras.losses.SparseCategoricalCrossentropy(\n",
    "    from_logits=True,\n",
    "    reduction='none'\n",
    ")\n",
    "\n",
    "model.compile(loss=loss, optimizer=optimizer)\n",
    "model.fit(dataset, epochs=30)"
   ]
  },
  {
   "cell_type": "code",
   "execution_count": 15,
   "metadata": {
    "ExecuteTime": {
     "end_time": "2020-09-10T02:11:58.309471Z",
     "start_time": "2020-09-10T02:11:58.304229Z"
    }
   },
   "outputs": [],
   "source": [
    "def generate_text(model, tokenizer, init_sentence=\"<start>\", max_len=20):\n",
    "    # 테스트를 위해서 입력받은 init_sentence도 일단 텐서로 변환합니다.\n",
    "    test_input = tokenizer.texts_to_sequences([init_sentence])\n",
    "    test_tensor = tf.convert_to_tensor(test_input, dtype=tf.int64)\n",
    "    end_token = tokenizer.word_index[\"<end>\"]\n",
    "\n",
    "    # 텍스트를 실제로 생성할때는 루프를 돌면서 단어 하나씩 생성해야 합니다. \n",
    "    while True:\n",
    "        predict = model(test_tensor)  # 입력받은 문장의 텐서를 입력합니다. \n",
    "        predict_word = tf.argmax(tf.nn.softmax(predict, axis=-1), axis=-1)[:, -1]   # 우리 모델이 예측한 마지막 단어가 바로 새롭게 생성한 단어가 됩니다. \n",
    "\n",
    "        # 우리 모델이 새롭게 예측한 단어를 입력 문장의 뒤에 붙여 줍니다. \n",
    "        test_tensor = tf.concat([test_tensor, \n",
    "                                                                 tf.expand_dims(predict_word, axis=0)], axis=-1)\n",
    "\n",
    "        # 우리 모델이 <END>를 예측했거나, max_len에 도달하지 않았다면  while 루프를 또 돌면서 다음 단어를 예측해야 합니다.\n",
    "        if predict_word.numpy()[0] == end_token: break\n",
    "        if test_tensor.shape[1] >= max_len: break\n",
    "\n",
    "    generated = \"\"\n",
    "    # 생성된 tensor 안에 있는 word index를 tokenizer.index_word 사전을 통해 실제 단어로 하나씩 변환합니다. \n",
    "    for word_index in test_tensor[0].numpy():\n",
    "        generated += tokenizer.index_word[word_index] + \" \"\n",
    "\n",
    "    return generated   # 이것이 최종적으로 모델이 생성한 자연어 문장입니다."
   ]
  },
  {
   "cell_type": "code",
   "execution_count": 16,
   "metadata": {
    "ExecuteTime": {
     "end_time": "2020-09-10T02:12:00.790874Z",
     "start_time": "2020-09-10T02:12:00.688133Z"
    }
   },
   "outputs": [
    {
     "data": {
      "text/plain": [
       "'<start> and , if thou darest , i ll give thee to the tower , <end> '"
      ]
     },
     "execution_count": 16,
     "metadata": {},
     "output_type": "execute_result"
    }
   ],
   "source": [
    "generate_text(model, tokenizer, init_sentence=\"<start>\")"
   ]
  }
 ],
 "metadata": {
  "kernelspec": {
   "display_name": "aiffel",
   "language": "python",
   "name": "aiffel"
  },
  "language_info": {
   "codemirror_mode": {
    "name": "ipython",
    "version": 3
   },
   "file_extension": ".py",
   "mimetype": "text/x-python",
   "name": "python",
   "nbconvert_exporter": "python",
   "pygments_lexer": "ipython3",
   "version": "3.7.7"
  },
  "toc": {
   "base_numbering": 1,
   "nav_menu": {},
   "number_sections": true,
   "sideBar": true,
   "skip_h1_title": false,
   "title_cell": "Table of Contents",
   "title_sidebar": "Contents",
   "toc_cell": false,
   "toc_position": {},
   "toc_section_display": true,
   "toc_window_display": false
  },
  "varInspector": {
   "cols": {
    "lenName": 16,
    "lenType": 16,
    "lenVar": 40
   },
   "kernels_config": {
    "python": {
     "delete_cmd_postfix": "",
     "delete_cmd_prefix": "del ",
     "library": "var_list.py",
     "varRefreshCmd": "print(var_dic_list())"
    },
    "r": {
     "delete_cmd_postfix": ") ",
     "delete_cmd_prefix": "rm(",
     "library": "var_list.r",
     "varRefreshCmd": "cat(var_dic_list()) "
    }
   },
   "types_to_exclude": [
    "module",
    "function",
    "builtin_function_or_method",
    "instance",
    "_Feature"
   ],
   "window_display": false
  }
 },
 "nbformat": 4,
 "nbformat_minor": 4
}
