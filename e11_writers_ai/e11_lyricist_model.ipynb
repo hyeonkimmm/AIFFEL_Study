{
 "cells": [
  {
   "cell_type": "markdown",
   "metadata": {},
   "source": [
    "# 작사가 만들기 프로젝트"
   ]
  },
  {
   "cell_type": "markdown",
   "metadata": {},
   "source": [
    "## 데이터 다운로드\n",
    " wget https://aiffelstaticprd.blob.core.windows.net/media/documents/song_lyrics.zip"
   ]
  },
  {
   "cell_type": "markdown",
   "metadata": {},
   "source": [
    "## 데이터 읽어오기"
   ]
  },
  {
   "cell_type": "code",
   "execution_count": 1,
   "metadata": {
    "ExecuteTime": {
     "end_time": "2020-09-10T05:31:51.612191Z",
     "start_time": "2020-09-10T05:31:51.583631Z"
    }
   },
   "outputs": [
    {
     "name": "stdout",
     "output_type": "stream",
     "text": [
      "데이터 크기: 187088\n",
      "Examples:\n",
      " ['The Cat in the Hat', 'By Dr. Seuss', 'The sun did not shine.']\n"
     ]
    }
   ],
   "source": [
    "import glob\n",
    "import os\n",
    "\n",
    "txt_file_path = 'data/lyrics/*'\n",
    "\n",
    "txt_list = glob.glob(txt_file_path)\n",
    "\n",
    "raw_corpus = []\n",
    "\n",
    "# 여러개의 txt 파일을 모두 읽어서 raw_corpus 에 담습니다.\n",
    "for txt_file in txt_list:\n",
    "    with open(txt_file, \"r\") as f:\n",
    "        raw = f.read().splitlines()\n",
    "        raw_corpus.extend(raw)\n",
    "\n",
    "print(\"데이터 크기:\", len(raw_corpus))\n",
    "print(\"Examples:\\n\", raw_corpus[:3])"
   ]
  },
  {
   "cell_type": "markdown",
   "metadata": {},
   "source": [
    "## 데이터 정제\n",
    "preprocess_sentence() 함수를 활용해 데이터 정제\n",
    "\n",
    "추가로 지나치게 긴 문장은 다른 데이터들이 과도한 Padding을 갖게 하므로 제거합니다.\n",
    "\n",
    "문장을 토큰화 했을 때 토큰의 개수가 15개를 넘어가면 잘라내기를 권합니다."
   ]
  },
  {
   "cell_type": "code",
   "execution_count": 2,
   "metadata": {
    "ExecuteTime": {
     "end_time": "2020-09-10T05:31:56.698891Z",
     "start_time": "2020-09-10T05:31:56.695385Z"
    }
   },
   "outputs": [],
   "source": [
    "import re            \n",
    "def preprocess_sentence(sentence):\n",
    "    sentence = sentence.lower().strip()       # 소문자로 바꾸고 양쪽 공백을 삭제\n",
    "  \n",
    "    # 아래 3단계를 거쳐 sentence는 스페이스 1개를 delimeter로 하는 소문자 단어 시퀀스로 바뀝니다.\n",
    "    sentence = re.sub(r\"([?.!,¿])\", r\" \\1 \", sentence)        # 패턴의 특수문자를 만나면 특수문자 양쪽에 공백을 추가\n",
    "    sentence = re.sub(r'[\" \"]+', \" \", sentence)                  # 공백 패턴을 만나면 스페이스 1개로 치환\n",
    "    sentence = re.sub(r\"[^a-zA-Z?.!,¿]+\", \" \", sentence)  # a-zA-Z?.!,¿ 패턴을 제외한 모든 문자(공백문자까지도)를 스페이스 1개로 치환\n",
    "\n",
    "    sentence = sentence.strip()\n",
    "\n",
    "    sentence = '<start> ' + sentence + ' <end>'      # 이전 스텝에서 본 것처럼 문장 앞뒤로 <start>와 <end>를 단어처럼 붙여 줍니다\n",
    "    \n",
    "    return sentence"
   ]
  },
  {
   "cell_type": "code",
   "execution_count": 3,
   "metadata": {
    "ExecuteTime": {
     "end_time": "2020-09-10T05:32:02.281781Z",
     "start_time": "2020-09-10T05:32:00.829618Z"
    }
   },
   "outputs": [
    {
     "data": {
      "text/plain": [
       "['<start> the cat in the hat <end>',\n",
       " '<start> by dr . seuss <end>',\n",
       " '<start> the sun did not shine . <end>',\n",
       " '<start> it was too wet to play . <end>',\n",
       " '<start> so we sat in the house <end>',\n",
       " '<start> all that cold cold wet day . <end>',\n",
       " '<start> i sat there with sally . <end>',\n",
       " '<start> we sat there we two . <end>',\n",
       " '<start> and i said how i wish <end>',\n",
       " '<start> we had something to do ! <end>']"
      ]
     },
     "execution_count": 3,
     "metadata": {},
     "output_type": "execute_result"
    }
   ],
   "source": [
    "corpus = []\n",
    "\n",
    "for sentence in raw_corpus:\n",
    "    if len(sentence) == 0: continue\n",
    "    if sentence[-1] == \":\": continue\n",
    "        \n",
    "    corpus.append(preprocess_sentence(sentence))\n",
    "        \n",
    "corpus[:10]"
   ]
  },
  {
   "cell_type": "code",
   "execution_count": 4,
   "metadata": {
    "ExecuteTime": {
     "end_time": "2020-09-10T05:32:07.232332Z",
     "start_time": "2020-09-10T05:32:03.345818Z"
    }
   },
   "outputs": [
    {
     "name": "stdout",
     "output_type": "stream",
     "text": [
      "[[   2    6  903 ...    0    0    0]\n",
      " [   2  122 2584 ...    0    0    0]\n",
      " [   2    6  304 ...    0    0    0]\n",
      " ...\n",
      " [ 673   27    6 ...    6  189    3]\n",
      " [   2  673   27 ...    0    0    0]\n",
      " [   2  673   27 ...    0    0    0]] <keras_preprocessing.text.Tokenizer object at 0x7faf7d1d03d0>\n"
     ]
    }
   ],
   "source": [
    "import tensorflow as tf\n",
    "def tokenize(corpus):\n",
    "    # 텐서플로우에서 제공하는 Tokenizer 패키지를 생성\n",
    "    tokenizer = tf.keras.preprocessing.text.Tokenizer(\n",
    "        num_words=12000,  # 전체 단어의 개수 \n",
    "        filters=' ',    # 별도로 전처리 로직을 추가할 수 있습니다. 이번에는 사용하지 않겠습니다.\n",
    "        oov_token=\"<unk>\"  # out-of-vocabulary, 사전에 없었던 단어는 어떤 토큰으로 대체할지\n",
    "    )\n",
    "    tokenizer.fit_on_texts(corpus)   # 우리가 구축한 corpus로부터 Tokenizer가 사전을 자동구축하게 됩니다.\n",
    "\n",
    "    # 이후 tokenizer를 활용하여 모델에 입력할 데이터셋을 구축하게 됩니다.\n",
    "    tensor = tokenizer.texts_to_sequences(corpus)   \n",
    "    # tokenizer는 구축한 사전으로부터 corpus를 해석해 Tensor로 변환합니다.\n",
    "\n",
    "    # 입력 데이터의 시퀀스 길이를 일정하게 맞추기 위한 padding  메소드를 제공합니다.\n",
    "    # maxlen의 디폴트값은 None입니다. 이 경우 corpus의 가장 긴 문장을 기준으로 시퀀스 길이가 맞춰집니다.\n",
    "    tensor = tf.keras.preprocessing.sequence.pad_sequences(tensor, padding='post', maxlen=15)  \n",
    "\n",
    "    print(tensor,tokenizer)\n",
    "    return tensor, tokenizer\n",
    "tensor, tokenizer = tokenize(corpus)"
   ]
  },
  {
   "cell_type": "code",
   "execution_count": 5,
   "metadata": {
    "ExecuteTime": {
     "end_time": "2020-09-10T05:32:14.174499Z",
     "start_time": "2020-09-10T05:32:14.172015Z"
    }
   },
   "outputs": [
    {
     "name": "stdout",
     "output_type": "stream",
     "text": [
      "[[   2    6  903   14    6 1350    3    0    0    0    0    0    0    0\n",
      "     0]\n",
      " [   2  122 2584   20    1    3    0    0    0    0    0    0    0    0\n",
      "     0]\n",
      " [   2    6  304  166   70  559   20    3    0    0    0    0    0    0\n",
      "     0]]\n"
     ]
    }
   ],
   "source": [
    "print(tensor[:3, :15])"
   ]
  },
  {
   "cell_type": "code",
   "execution_count": 6,
   "metadata": {
    "ExecuteTime": {
     "end_time": "2020-09-10T05:32:19.349214Z",
     "start_time": "2020-09-10T05:32:19.345392Z"
    }
   },
   "outputs": [
    {
     "name": "stdout",
     "output_type": "stream",
     "text": [
      "1 : <unk>\n",
      "2 : <start>\n",
      "3 : <end>\n",
      "4 : ,\n",
      "5 : i\n",
      "6 : the\n",
      "7 : you\n",
      "8 : and\n",
      "9 : a\n",
      "10 : to\n"
     ]
    }
   ],
   "source": [
    "for idx in tokenizer.index_word:\n",
    "    print(idx, \":\", tokenizer.index_word[idx])\n",
    "\n",
    "    if idx >= 10: break"
   ]
  },
  {
   "cell_type": "code",
   "execution_count": 8,
   "metadata": {
    "ExecuteTime": {
     "end_time": "2020-09-10T05:35:35.715047Z",
     "start_time": "2020-09-10T05:35:35.712245Z"
    }
   },
   "outputs": [
    {
     "name": "stdout",
     "output_type": "stream",
     "text": [
      "[   2    6  903   14    6 1350    3    0    0    0    0    0    0    0]\n",
      "[   6  903   14    6 1350    3    0    0    0    0    0    0    0    0]\n"
     ]
    }
   ],
   "source": [
    "src_input = tensor[:, :-1]  # tensor에서 마지막 토큰을 잘라내서 소스 문장을 생성합니다. 마지막 토큰은 <END>가 아니라 <pad>일 가능성이 높습니다.\n",
    "tgt_input = tensor[:, 1:]    # tensor에서 <START>를 잘라내서 타겟 문장을 생성합니다.\n",
    "\n",
    "print(src_input[0])\n",
    "print(tgt_input[0])"
   ]
  },
  {
   "cell_type": "markdown",
   "metadata": {},
   "source": [
    "## 평가 데이터셋 분리\n",
    "**훈련 데이터와 평가 데이터를 분리하세요!**\n",
    "\n",
    "`tokenize()` 함수로 데이터를 Tensor로 변환한 후, `sklearn` 모듈의 `train_test_split()`\n",
    "\n",
    "함수를 사용해 훈련 데이터와 평가 데이터를 분리하도록 하겠습니다. \n",
    "\n",
    "단어장의 크기는 12,000 이상으로 설정하세요!\n",
    "\n",
    "총 데이터의 20%를 평가 데이터셋으로 사용해 주세요!"
   ]
  },
  {
   "cell_type": "code",
   "execution_count": 9,
   "metadata": {
    "ExecuteTime": {
     "end_time": "2020-09-10T05:35:38.249375Z",
     "start_time": "2020-09-10T05:35:38.219432Z"
    }
   },
   "outputs": [],
   "source": [
    "from sklearn.model_selection import train_test_split\n",
    "enc_train, enc_val, dec_train, dec_val = train_test_split(src_input, \n",
    "                                                          tgt_input,\n",
    "                                                          test_size=0.2,\n",
    "                                                          shuffle=True, \n",
    "                                                          random_state=34)"
   ]
  },
  {
   "cell_type": "code",
   "execution_count": 10,
   "metadata": {
    "ExecuteTime": {
     "end_time": "2020-09-10T05:36:52.187754Z",
     "start_time": "2020-09-10T05:36:52.185158Z"
    }
   },
   "outputs": [],
   "source": [
    "BUFFER_SIZE = len(src_input)\n",
    "BATCH_SIZE = 256\n",
    "steps_per_epoch = len(src_input) // BATCH_SIZE\n",
    "\n",
    "VOCAB_SIZE = tokenizer.num_words + 1   \n",
    "# tokenizer가 구축한 단어사전 내 12000개와, 여기 포함되지 않은 0:<pad>를 포함하여 12001개"
   ]
  },
  {
   "cell_type": "code",
   "execution_count": 11,
   "metadata": {
    "ExecuteTime": {
     "end_time": "2020-09-10T05:37:16.081012Z",
     "start_time": "2020-09-10T05:37:15.895386Z"
    }
   },
   "outputs": [
    {
     "data": {
      "text/plain": [
       "<BatchDataset shapes: ((256, 14), (256, 14)), types: (tf.int32, tf.int32)>"
      ]
     },
     "execution_count": 11,
     "metadata": {},
     "output_type": "execute_result"
    }
   ],
   "source": [
    "dataset = tf.data.Dataset.from_tensor_slices((enc_train, dec_train)).shuffle(BUFFER_SIZE)\n",
    "dataset = dataset.batch(BATCH_SIZE, drop_remainder=True)\n",
    "dataset"
   ]
  },
  {
   "cell_type": "code",
   "execution_count": 12,
   "metadata": {
    "ExecuteTime": {
     "end_time": "2020-09-10T05:37:33.314329Z",
     "start_time": "2020-09-10T05:37:33.309947Z"
    }
   },
   "outputs": [
    {
     "data": {
      "text/plain": [
       "<BatchDataset shapes: ((256, 14), (256, 14)), types: (tf.int32, tf.int32)>"
      ]
     },
     "execution_count": 12,
     "metadata": {},
     "output_type": "execute_result"
    }
   ],
   "source": [
    "val_dataset = tf.data.Dataset.from_tensor_slices((enc_val, dec_val)).shuffle(BUFFER_SIZE)\n",
    "val_dataset = val_dataset.batch(BATCH_SIZE, drop_remainder=True)\n",
    "val_dataset"
   ]
  },
  {
   "cell_type": "markdown",
   "metadata": {},
   "source": [
    "## 인공지능 만들기\n",
    "모델의 Embedding Size와 Hidden Size를 조절하며 \n",
    "\n",
    "10 Epoch 안에 val_loss 값을 2.2 수준으로 줄일 수 있는 모델을 설계하세요! \n",
    "\n",
    "(Loss는 아래 제시된 Loss 함수를 그대로 사용!)\n",
    "\n",
    "\n",
    "`loss = tf.keras.losses.SparseCategoricalCrossentropy(\n",
    "    from_logits=True, reduction='none')`"
   ]
  },
  {
   "cell_type": "code",
   "execution_count": 13,
   "metadata": {
    "ExecuteTime": {
     "end_time": "2020-09-10T05:38:26.041440Z",
     "start_time": "2020-09-10T05:38:26.025542Z"
    }
   },
   "outputs": [],
   "source": [
    "class TextGenerator(tf.keras.Model):\n",
    "    def __init__(self, vocab_size, embedding_size, hidden_size):\n",
    "        super(TextGenerator, self).__init__()\n",
    "        \n",
    "        self.embedding = tf.keras.layers.Embedding(vocab_size, embedding_size)\n",
    "        self.rnn_1 = tf.keras.layers.LSTM(hidden_size, return_sequences=True)\n",
    "        self.drop1 = tf.keras.layers.Dropout(0.3)\n",
    "        self.rnn_2 = tf.keras.layers.LSTM(hidden_size, return_sequences=True)\n",
    "        self.linear = tf.keras.layers.Dense(vocab_size)\n",
    "        \n",
    "    def call(self, x):\n",
    "        out = self.embedding(x)\n",
    "        out = self.rnn_1(out)\n",
    "        out = self.drop1(out)\n",
    "        out = self.rnn_2(out)\n",
    "        out = self.linear(out)\n",
    "        \n",
    "        return out\n",
    "    \n",
    "embedding_size = 1024\n",
    "hidden_size = 2048\n",
    "model = TextGenerator(tokenizer.num_words + 1, embedding_size , hidden_size)"
   ]
  },
  {
   "cell_type": "code",
   "execution_count": 14,
   "metadata": {
    "ExecuteTime": {
     "end_time": "2020-09-10T05:38:58.871571Z",
     "start_time": "2020-09-10T05:38:39.298979Z"
    }
   },
   "outputs": [
    {
     "data": {
      "text/plain": [
       "<tf.Tensor: shape=(256, 14, 12001), dtype=float32, numpy=\n",
       "array([[[-3.39950755e-04,  9.62374615e-04,  6.44276734e-05, ...,\n",
       "         -5.62458648e-04, -1.57038870e-04, -7.08163599e-04],\n",
       "        [-5.91338088e-04,  1.70278619e-03, -5.14362473e-04, ...,\n",
       "         -5.61500317e-04, -6.18121587e-04, -1.11529650e-03],\n",
       "        [-9.02707805e-04,  1.88881985e-03, -1.16728444e-03, ...,\n",
       "         -7.06479303e-04, -9.98015516e-04, -1.33103225e-03],\n",
       "        ...,\n",
       "        [-2.57130538e-04,  6.56609016e-04, -1.92270672e-03, ...,\n",
       "         -1.31871016e-03, -2.33072788e-03,  1.23617670e-03],\n",
       "        [-2.41459275e-04,  4.00909455e-04, -2.56170239e-03, ...,\n",
       "         -1.56585500e-03, -2.46286090e-03,  1.88458839e-03],\n",
       "        [-3.22943961e-04,  1.11753623e-04, -3.23991245e-03, ...,\n",
       "         -1.77496637e-03, -2.56651733e-03,  2.47097248e-03]],\n",
       "\n",
       "       [[-3.39950755e-04,  9.62374615e-04,  6.44276734e-05, ...,\n",
       "         -5.62458648e-04, -1.57038870e-04, -7.08163599e-04],\n",
       "        [-8.45975941e-04,  7.75889610e-04,  4.29702020e-04, ...,\n",
       "         -1.07598666e-03, -1.22572630e-04, -1.19298196e-03],\n",
       "        [-1.36700599e-03,  1.99693299e-04,  5.13573294e-04, ...,\n",
       "         -1.45965349e-03, -4.37257695e-04, -1.42347906e-03],\n",
       "        ...,\n",
       "        [-1.01145753e-03,  8.52933328e-04,  8.75632744e-04, ...,\n",
       "          9.79174278e-04, -1.55551429e-03,  1.04850347e-04],\n",
       "        [-9.06415982e-04,  8.82307359e-04,  8.53639795e-04, ...,\n",
       "          7.82489660e-04, -1.66894193e-03,  7.30943517e-04],\n",
       "        [-7.44510849e-04,  7.79111346e-04,  3.93829163e-04, ...,\n",
       "          4.18247306e-04, -1.88593543e-03,  1.36227719e-03]],\n",
       "\n",
       "       [[-3.39950755e-04,  9.62374615e-04,  6.44276734e-05, ...,\n",
       "         -5.62458648e-04, -1.57038870e-04, -7.08163599e-04],\n",
       "        [-5.91338088e-04,  1.70278619e-03, -5.14362473e-04, ...,\n",
       "         -5.61500317e-04, -6.18121587e-04, -1.11529650e-03],\n",
       "        [-1.04424101e-03,  2.37525627e-03, -7.17982301e-04, ...,\n",
       "         -1.13272236e-03, -4.13547357e-04, -1.53558282e-03],\n",
       "        ...,\n",
       "        [-1.58580171e-03, -6.95446623e-04,  1.36195449e-03, ...,\n",
       "          5.49127581e-04, -2.54175998e-03, -1.22456043e-03],\n",
       "        [-7.28470099e-04, -3.61493265e-04,  1.85153016e-03, ...,\n",
       "          3.58000485e-04, -3.24300095e-03, -1.20479264e-03],\n",
       "        [-2.06779572e-04, -4.24931059e-05,  2.50621908e-03, ...,\n",
       "          1.68132348e-04, -4.20538895e-03, -1.82450586e-03]],\n",
       "\n",
       "       ...,\n",
       "\n",
       "       [[-3.39950755e-04,  9.62374615e-04,  6.44276734e-05, ...,\n",
       "         -5.62458648e-04, -1.57038870e-04, -7.08163599e-04],\n",
       "        [-6.54347125e-04,  1.54736720e-03,  1.71293519e-04, ...,\n",
       "         -1.37683935e-03, -3.15099256e-04, -1.61715620e-03],\n",
       "        [-1.19327020e-03,  2.27029086e-03,  8.76939448e-04, ...,\n",
       "         -1.79054285e-03, -1.78602160e-04, -2.54002586e-03],\n",
       "        ...,\n",
       "        [-1.98225956e-03,  3.17380461e-03,  9.72150301e-05, ...,\n",
       "          4.42324555e-04,  3.00578278e-04, -1.22823485e-03],\n",
       "        [-1.71208056e-03,  2.51647388e-03, -3.45775828e-04, ...,\n",
       "          3.83724364e-06,  4.21955265e-05, -3.95380252e-04],\n",
       "        [-1.45725778e-03,  1.80881738e-03, -1.00479252e-03, ...,\n",
       "         -4.53124841e-04, -2.71343568e-04,  4.19816293e-04]],\n",
       "\n",
       "       [[-3.16036894e-04,  3.27693240e-04,  3.14747245e-04, ...,\n",
       "         -1.30862230e-04, -3.22824839e-04, -5.64763846e-04],\n",
       "        [-2.87851813e-04,  1.06512103e-03,  6.28323352e-04, ...,\n",
       "          4.69719926e-05, -5.14547806e-04, -3.14097386e-04],\n",
       "        [-2.29935336e-04,  1.30666047e-03,  9.08701273e-04, ...,\n",
       "         -4.71997861e-04, -5.44182549e-04,  2.65816459e-04],\n",
       "        ...,\n",
       "        [-4.73817985e-04, -1.56957621e-03,  1.52810419e-03, ...,\n",
       "          8.42238951e-05, -3.68101988e-03,  2.67707510e-03],\n",
       "        [-4.59642586e-04, -1.33988482e-03,  1.58951525e-03, ...,\n",
       "         -3.16131744e-04, -4.32455307e-03,  2.53952993e-03],\n",
       "        [-3.77660879e-04, -1.70749193e-03,  1.40913390e-03, ...,\n",
       "         -3.87705019e-04, -4.66485973e-03,  2.59222579e-03]],\n",
       "\n",
       "       [[ 4.05667670e-04,  3.43569001e-04,  3.99069133e-04, ...,\n",
       "         -3.48533722e-05,  9.26744833e-05,  3.36762430e-04],\n",
       "        [ 1.17366435e-03,  8.07108998e-04,  8.36712250e-04, ...,\n",
       "          3.03241715e-04, -6.97455789e-06,  1.11979234e-03],\n",
       "        [ 1.51343225e-03,  1.58231601e-03,  1.31551106e-03, ...,\n",
       "          6.26027177e-04, -1.47283019e-04,  1.29556528e-03],\n",
       "        ...,\n",
       "        [-2.10990358e-04,  2.22942734e-04,  2.01754156e-03, ...,\n",
       "          8.97169404e-04, -1.74223108e-03, -5.75709040e-04],\n",
       "        [-3.20502077e-05, -4.89848098e-05,  2.21206690e-03, ...,\n",
       "          4.36179864e-04, -2.00681039e-03, -7.57794420e-04],\n",
       "        [ 4.28723433e-05, -1.21964855e-04,  2.27572140e-03, ...,\n",
       "         -4.05379047e-04, -1.82272273e-03, -3.46581597e-04]]],\n",
       "      dtype=float32)>"
      ]
     },
     "execution_count": 14,
     "metadata": {},
     "output_type": "execute_result"
    }
   ],
   "source": [
    "for src_sample, tgt_sample in dataset.take(1): break\n",
    "model(src_sample)"
   ]
  },
  {
   "cell_type": "code",
   "execution_count": 15,
   "metadata": {
    "ExecuteTime": {
     "end_time": "2020-09-10T05:39:11.024160Z",
     "start_time": "2020-09-10T05:39:11.021095Z"
    }
   },
   "outputs": [
    {
     "name": "stdout",
     "output_type": "stream",
     "text": [
      "Model: \"text_generator\"\n",
      "_________________________________________________________________\n",
      "Layer (type)                 Output Shape              Param #   \n",
      "=================================================================\n",
      "embedding (Embedding)        multiple                  12289024  \n",
      "_________________________________________________________________\n",
      "lstm (LSTM)                  multiple                  25174016  \n",
      "_________________________________________________________________\n",
      "dropout (Dropout)            multiple                  0         \n",
      "_________________________________________________________________\n",
      "lstm_1 (LSTM)                multiple                  33562624  \n",
      "_________________________________________________________________\n",
      "dense (Dense)                multiple                  24590049  \n",
      "=================================================================\n",
      "Total params: 95,615,713\n",
      "Trainable params: 95,615,713\n",
      "Non-trainable params: 0\n",
      "_________________________________________________________________\n"
     ]
    }
   ],
   "source": [
    "model.summary()"
   ]
  },
  {
   "cell_type": "code",
   "execution_count": 18,
   "metadata": {
    "ExecuteTime": {
     "end_time": "2020-09-10T05:41:20.771303Z",
     "start_time": "2020-09-10T05:41:20.759321Z"
    }
   },
   "outputs": [],
   "source": [
    "optimizer = tf.keras.optimizers.Adam(learning_rate=0.001)\n",
    "\n",
    "loss = tf.keras.losses.SparseCategoricalCrossentropy(\n",
    "    from_logits=True,\n",
    "    reduction='none'\n",
    ")\n",
    "\n",
    "model.compile(loss=loss, optimizer=optimizer, metrics=['accuracy'])"
   ]
  },
  {
   "cell_type": "code",
   "execution_count": 22,
   "metadata": {
    "ExecuteTime": {
     "end_time": "2020-09-10T06:34:39.678803Z",
     "start_time": "2020-09-10T05:42:16.414481Z"
    }
   },
   "outputs": [
    {
     "name": "stdout",
     "output_type": "stream",
     "text": [
      "Epoch 1/10\n",
      "549/549 [==============================] - 331s 604ms/step - loss: 3.4846 - accuracy: 0.4667 - val_loss: 3.0684 - val_accuracy: 0.4995\n",
      "Epoch 2/10\n",
      "549/549 [==============================] - 331s 603ms/step - loss: 2.9102 - accuracy: 0.5100 - val_loss: 2.8112 - val_accuracy: 0.5224\n",
      "Epoch 3/10\n",
      "549/549 [==============================] - 308s 561ms/step - loss: 2.6134 - accuracy: 0.5352 - val_loss: 2.6417 - val_accuracy: 0.5422\n",
      "Epoch 4/10\n",
      "549/549 [==============================] - 289s 527ms/step - loss: 2.3408 - accuracy: 0.5644 - val_loss: 2.5125 - val_accuracy: 0.5631\n",
      "Epoch 5/10\n",
      "549/549 [==============================] - 337s 615ms/step - loss: 2.0864 - accuracy: 0.5977 - val_loss: 2.4174 - val_accuracy: 0.5824\n",
      "Epoch 6/10\n",
      "549/549 [==============================] - 311s 566ms/step - loss: 1.8559 - accuracy: 0.6332 - val_loss: 2.3535 - val_accuracy: 0.5978\n",
      "Epoch 7/10\n",
      "549/549 [==============================] - 307s 559ms/step - loss: 1.6551 - accuracy: 0.6679 - val_loss: 2.3126 - val_accuracy: 0.6124\n",
      "Epoch 8/10\n",
      "549/549 [==============================] - 307s 559ms/step - loss: 1.4847 - accuracy: 0.6999 - val_loss: 2.2908 - val_accuracy: 0.6245\n",
      "Epoch 9/10\n",
      "549/549 [==============================] - 307s 559ms/step - loss: 1.3439 - accuracy: 0.7275 - val_loss: 2.2836 - val_accuracy: 0.6335\n",
      "Epoch 10/10\n",
      "549/549 [==============================] - 307s 559ms/step - loss: 1.2313 - accuracy: 0.7506 - val_loss: 2.2931 - val_accuracy: 0.6402\n"
     ]
    }
   ],
   "source": [
    "history = []\n",
    "epochs = 10\n",
    "history = model.fit(dataset,\n",
    "          epochs=epochs,\n",
    "          batch_size=256,\n",
    "          validation_data=val_dataset,\n",
    "          verbose=1)"
   ]
  },
  {
   "cell_type": "code",
   "execution_count": 23,
   "metadata": {
    "ExecuteTime": {
     "end_time": "2020-09-10T07:50:02.886408Z",
     "start_time": "2020-09-10T07:50:02.882212Z"
    }
   },
   "outputs": [],
   "source": [
    "\n",
    "def plot_curve(epochs, hist, list_of_metrics):\n",
    "    \n",
    "    fig, ax = plt.subplots(1,2,figsize = (12, 8))\n",
    "    \n",
    "    for i in range(len(ax)):\n",
    "        ax[i].set_xlabel('Epochs')\n",
    "        ax[i].set_ylabel('Value')\n",
    "        \n",
    "        for n in range(len(list_of_metrics)):\n",
    "            if i == 0:\n",
    "                y = hist[list_of_metrics[n]]\n",
    "                if n == 0:\n",
    "                    ax[i].plot(epochs, y, label=\"train\")\n",
    "                else:\n",
    "                    ax[i].plot(epochs, y, label=\"val\")\n",
    "                ax[i].set_title('Loss')\n",
    "                ax[i].legend(loc='upper right')\n",
    "                if n == 1:\n",
    "                    break\n",
    "            else:\n",
    "                if n >= 2:\n",
    "                    y = hist[list_of_metrics[n]]\n",
    "                    if n == 2:\n",
    "                        ax[i].plot(epochs, y, label=\"train\")\n",
    "                    else:\n",
    "                        ax[i].plot(epochs, y, label=\"val\")\n",
    "                    ax[i].set_title('Accuracy')\n",
    "                    ax[i].legend(loc='lower right')\n",
    "                    \n",
    "    plt.show()"
   ]
  },
  {
   "cell_type": "code",
   "execution_count": 25,
   "metadata": {
    "ExecuteTime": {
     "end_time": "2020-09-10T07:50:41.973906Z",
     "start_time": "2020-09-10T07:50:41.664945Z"
    }
   },
   "outputs": [
    {
     "data": {
      "image/png": "[encoded data removed]",
      "text/plain": [
       "<Figure size 864x576 with 2 Axes>"
      ]
     },
     "metadata": {
      "needs_background": "light"
     },
     "output_type": "display_data"
    }
   ],
   "source": [
    "import matplotlib.pyplot as plt \n",
    "plot_curve(history.epoch, history.history,\n",
    "           ['loss', 'val_loss', 'accuracy', 'val_accuracy'])"
   ]
  },
  {
   "cell_type": "code",
   "execution_count": 26,
   "metadata": {
    "ExecuteTime": {
     "end_time": "2020-09-10T07:52:18.169376Z",
     "start_time": "2020-09-10T07:52:18.163751Z"
    }
   },
   "outputs": [],
   "source": [
    "def generate_text(model, tokenizer, init_sentence=\"<start>\", max_len=20):\n",
    "    # 테스트를 위해서 입력받은 init_sentence도 일단 텐서로 변환합니다.\n",
    "    test_input = tokenizer.texts_to_sequences([init_sentence])\n",
    "    test_tensor = tf.convert_to_tensor(test_input, dtype=tf.int64)\n",
    "    end_token = tokenizer.word_index[\"<end>\"]\n",
    "\n",
    "    # 텍스트를 실제로 생성할때는 루프를 돌면서 단어 하나씩 생성해야 합니다. \n",
    "    while True:\n",
    "        predict = model(test_tensor)  # 입력받은 문장의 텐서를 입력합니다. \n",
    "        predict_word = tf.argmax(tf.nn.softmax(predict, axis=-1), axis=-1)[:, -1]   # 우리 모델이 예측한 마지막 단어가 바로 새롭게 생성한 단어가 됩니다. \n",
    "\n",
    "        # 우리 모델이 새롭게 예측한 단어를 입력 문장의 뒤에 붙여 줍니다. \n",
    "        test_tensor = tf.concat([test_tensor, \n",
    "        tf.expand_dims(predict_word, axis=0)], axis=-1)\n",
    "\n",
    "        # 우리 모델이 <END>를 예측했거나, max_len에 도달하지 않았다면  while 루프를 또 돌면서 다음 단어를 예측해야 합니다.\n",
    "        if predict_word.numpy()[0] == end_token: break\n",
    "        if test_tensor.shape[1] >= max_len: break\n",
    "\n",
    "    generated = \"\"\n",
    "    # 생성된 tensor 안에 있는 word index를 tokenizer.index_word 사전을 통해 실제 단어로 하나씩 변환합니다. \n",
    "    for word_index in test_tensor[0].numpy():\n",
    "        generated += tokenizer.index_word[word_index] + \" \"\n",
    "\n",
    "    return generated   # 이것이 최종적으로 모델이 생성한 자연어 문장입니다."
   ]
  },
  {
   "cell_type": "markdown",
   "metadata": {},
   "source": [
    "## Generate lyrics"
   ]
  },
  {
   "cell_type": "code",
   "execution_count": 27,
   "metadata": {
    "ExecuteTime": {
     "end_time": "2020-09-10T07:52:20.864913Z",
     "start_time": "2020-09-10T07:52:20.793982Z"
    }
   },
   "outputs": [
    {
     "data": {
      "text/plain": [
       "'<start> i will eat you alive <end> '"
      ]
     },
     "execution_count": 27,
     "metadata": {},
     "output_type": "execute_result"
    }
   ],
   "source": [
    "generate_text(model, tokenizer, init_sentence=\"<start> i will\", max_len=20)"
   ]
  },
  {
   "attachments": {},
   "cell_type": "markdown",
   "metadata": {},
   "source": [
    "![image.png](download.png)\n",
    "![image-2.png](download1.png)"
   ]
  },
  {
   "cell_type": "code",
   "execution_count": 28,
   "metadata": {
    "ExecuteTime": {
     "end_time": "2020-09-10T07:54:20.996437Z",
     "start_time": "2020-09-10T07:54:20.811452Z"
    }
   },
   "outputs": [
    {
     "data": {
      "text/plain": [
       "'<start> she was like whoa whoa whoa whoa whoa whoa whoa whoa <end> '"
      ]
     },
     "execution_count": 28,
     "metadata": {},
     "output_type": "execute_result"
    }
   ],
   "source": [
    "generate_text(model, tokenizer, init_sentence=\"<start> she was\", max_len=20)"
   ]
  },
  {
   "cell_type": "code",
   "execution_count": 38,
   "metadata": {
    "ExecuteTime": {
     "end_time": "2020-09-10T07:56:18.885282Z",
     "start_time": "2020-09-10T07:56:18.685045Z"
    }
   },
   "outputs": [
    {
     "data": {
      "text/plain": [
       "'<start> you know i m bad , i m bad you know it <end> '"
      ]
     },
     "execution_count": 38,
     "metadata": {},
     "output_type": "execute_result"
    }
   ],
   "source": [
    "generate_text(model, tokenizer, init_sentence=\"<start> you\", max_len=20)"
   ]
  },
  {
   "attachments": {},
   "cell_type": "markdown",
   "metadata": {},
   "source": [
    "![image.png](download2.png)"
   ]
  },
  {
   "cell_type": "markdown",
   "metadata": {},
   "source": [
    "## 마무리\n",
    "처음 실습 모델 그대로 해봤는데 val_loss 값이 2.6 정도 였습니다. 기존 실습 데이터보다 양이 많다고 판단해서\n",
    "\n",
    "LSTM Layer 중간에 Dropout 30%을 적용했습니다.\n",
    "\n",
    "Embedding, hidden Size도 높게 조정하여 큰 데이터에 잘 대응할 수 있도록 적용했습니다.\n",
    "\n",
    "문자열 처리 모델이 이미지 처리모델보다 파라미터 수가 많은 것 같습니다\n",
    "\n",
    "이번 노드를 진행하며\n",
    "\n",
    "GLP-3 모델에 대한 자료를 찾아보며 공부해보고 싶다는 생각이 들었습니다\n",
    "\n",
    "작사가 답게 검색해보면 비슷한 가사가 잘 나오는 것을 보고 신기하다고 생각했다."
   ]
  }
 ],
 "metadata": {
  "kernelspec": {
   "display_name": "aiffel",
   "language": "python",
   "name": "aiffel"
  },
  "language_info": {
   "codemirror_mode": {
    "name": "ipython",
    "version": 3
   },
   "file_extension": ".py",
   "mimetype": "text/x-python",
   "name": "python",
   "nbconvert_exporter": "python",
   "pygments_lexer": "ipython3",
   "version": "3.7.7"
  },
  "toc": {
   "base_numbering": 1,
   "nav_menu": {},
   "number_sections": true,
   "sideBar": true,
   "skip_h1_title": false,
   "title_cell": "Table of Contents",
   "title_sidebar": "Contents",
   "toc_cell": false,
   "toc_position": {},
   "toc_section_display": true,
   "toc_window_display": false
  },
  "varInspector": {
   "cols": {
    "lenName": 16,
    "lenType": 16,
    "lenVar": 40
   },
   "kernels_config": {
    "python": {
     "delete_cmd_postfix": "",
     "delete_cmd_prefix": "del ",
     "library": "var_list.py",
     "varRefreshCmd": "print(var_dic_list())"
    },
    "r": {
     "delete_cmd_postfix": ") ",
     "delete_cmd_prefix": "rm(",
     "library": "var_list.r",
     "varRefreshCmd": "cat(var_dic_list()) "
    }
   },
   "types_to_exclude": [
    "module",
    "function",
    "builtin_function_or_method",
    "instance",
    "_Feature"
   ],
   "window_display": false
  }
 },
 "nbformat": 4,
 "nbformat_minor": 4
}
